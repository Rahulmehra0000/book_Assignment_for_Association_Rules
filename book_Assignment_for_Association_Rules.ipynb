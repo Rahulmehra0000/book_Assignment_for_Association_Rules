{
  "nbformat": 4,
  "nbformat_minor": 0,
  "metadata": {
    "kernelspec": {
      "display_name": "Python 3",
      "language": "python",
      "name": "python3"
    },
    "language_info": {
      "codemirror_mode": {
        "name": "ipython",
        "version": 3
      },
      "file_extension": ".py",
      "mimetype": "text/x-python",
      "name": "python",
      "nbconvert_exporter": "python",
      "pygments_lexer": "ipython3",
      "version": "3.8.5"
    },
    "toc": {
      "base_numbering": 1,
      "nav_menu": {},
      "number_sections": true,
      "sideBar": true,
      "skip_h1_title": false,
      "title_cell": "Table of Contents",
      "title_sidebar": "Contents",
      "toc_cell": false,
      "toc_position": {},
      "toc_section_display": true,
      "toc_window_display": false
    },
    "colab": {
      "name": "book Assignment for Association Rules.ipynb",
      "provenance": []
    }
  },
  "cells": [
    {
      "cell_type": "code",
      "metadata": {
        "ExecuteTime": {
          "end_time": "2021-07-26T10:16:35.668438Z",
          "start_time": "2021-07-26T10:16:35.559992Z"
        },
        "id": "Msy1Ae0mFnYB"
      },
      "source": [
        "## Import Libraries\n",
        "import pandas as pd\n",
        "from mlxtend.frequent_patterns import apriori,association_rules\n",
        "from mlxtend.preprocessing import TransactionEncoder\n",
        "# conda install -c conda-forge mlxtend"
      ],
      "execution_count": 36,
      "outputs": []
    },
    {
      "cell_type": "code",
      "metadata": {
        "ExecuteTime": {
          "end_time": "2021-07-26T10:16:38.620952Z",
          "start_time": "2021-07-26T10:16:37.666923Z"
        },
        "id": "9I6SfG1RFnYF"
      },
      "source": [
        "## Import dataset\n",
        "books= pd.read_csv('/content/book.csv')"
      ],
      "execution_count": 37,
      "outputs": []
    },
    {
      "cell_type": "code",
      "metadata": {
        "ExecuteTime": {
          "end_time": "2021-07-26T10:16:40.450942Z",
          "start_time": "2021-07-26T10:16:39.919400Z"
        },
        "colab": {
          "base_uri": "https://localhost:8080/",
          "height": 417
        },
        "id": "nhHM4Li7FnYG",
        "outputId": "26f8af97-dcb5-48ac-ad17-3226f94574db"
      },
      "source": [
        "books"
      ],
      "execution_count": 38,
      "outputs": [
        {
          "output_type": "execute_result",
          "data": {
            "text/html": [
              "<div>\n",
              "<style scoped>\n",
              "    .dataframe tbody tr th:only-of-type {\n",
              "        vertical-align: middle;\n",
              "    }\n",
              "\n",
              "    .dataframe tbody tr th {\n",
              "        vertical-align: top;\n",
              "    }\n",
              "\n",
              "    .dataframe thead th {\n",
              "        text-align: right;\n",
              "    }\n",
              "</style>\n",
              "<table border=\"1\" class=\"dataframe\">\n",
              "  <thead>\n",
              "    <tr style=\"text-align: right;\">\n",
              "      <th></th>\n",
              "      <th>ChildBks</th>\n",
              "      <th>YouthBks</th>\n",
              "      <th>CookBks</th>\n",
              "      <th>DoItYBks</th>\n",
              "      <th>RefBks</th>\n",
              "      <th>ArtBks</th>\n",
              "      <th>GeogBks</th>\n",
              "      <th>ItalCook</th>\n",
              "      <th>ItalAtlas</th>\n",
              "      <th>ItalArt</th>\n",
              "      <th>Florence</th>\n",
              "    </tr>\n",
              "  </thead>\n",
              "  <tbody>\n",
              "    <tr>\n",
              "      <th>0</th>\n",
              "      <td>0</td>\n",
              "      <td>1</td>\n",
              "      <td>0</td>\n",
              "      <td>1</td>\n",
              "      <td>0</td>\n",
              "      <td>0</td>\n",
              "      <td>1</td>\n",
              "      <td>0</td>\n",
              "      <td>0</td>\n",
              "      <td>0</td>\n",
              "      <td>0</td>\n",
              "    </tr>\n",
              "    <tr>\n",
              "      <th>1</th>\n",
              "      <td>1</td>\n",
              "      <td>0</td>\n",
              "      <td>0</td>\n",
              "      <td>0</td>\n",
              "      <td>0</td>\n",
              "      <td>0</td>\n",
              "      <td>0</td>\n",
              "      <td>0</td>\n",
              "      <td>0</td>\n",
              "      <td>0</td>\n",
              "      <td>0</td>\n",
              "    </tr>\n",
              "    <tr>\n",
              "      <th>2</th>\n",
              "      <td>0</td>\n",
              "      <td>0</td>\n",
              "      <td>0</td>\n",
              "      <td>0</td>\n",
              "      <td>0</td>\n",
              "      <td>0</td>\n",
              "      <td>0</td>\n",
              "      <td>0</td>\n",
              "      <td>0</td>\n",
              "      <td>0</td>\n",
              "      <td>0</td>\n",
              "    </tr>\n",
              "    <tr>\n",
              "      <th>3</th>\n",
              "      <td>1</td>\n",
              "      <td>1</td>\n",
              "      <td>1</td>\n",
              "      <td>0</td>\n",
              "      <td>1</td>\n",
              "      <td>0</td>\n",
              "      <td>1</td>\n",
              "      <td>0</td>\n",
              "      <td>0</td>\n",
              "      <td>0</td>\n",
              "      <td>0</td>\n",
              "    </tr>\n",
              "    <tr>\n",
              "      <th>4</th>\n",
              "      <td>0</td>\n",
              "      <td>0</td>\n",
              "      <td>1</td>\n",
              "      <td>0</td>\n",
              "      <td>0</td>\n",
              "      <td>0</td>\n",
              "      <td>1</td>\n",
              "      <td>0</td>\n",
              "      <td>0</td>\n",
              "      <td>0</td>\n",
              "      <td>0</td>\n",
              "    </tr>\n",
              "    <tr>\n",
              "      <th>...</th>\n",
              "      <td>...</td>\n",
              "      <td>...</td>\n",
              "      <td>...</td>\n",
              "      <td>...</td>\n",
              "      <td>...</td>\n",
              "      <td>...</td>\n",
              "      <td>...</td>\n",
              "      <td>...</td>\n",
              "      <td>...</td>\n",
              "      <td>...</td>\n",
              "      <td>...</td>\n",
              "    </tr>\n",
              "    <tr>\n",
              "      <th>1995</th>\n",
              "      <td>0</td>\n",
              "      <td>0</td>\n",
              "      <td>1</td>\n",
              "      <td>0</td>\n",
              "      <td>0</td>\n",
              "      <td>1</td>\n",
              "      <td>1</td>\n",
              "      <td>1</td>\n",
              "      <td>0</td>\n",
              "      <td>1</td>\n",
              "      <td>1</td>\n",
              "    </tr>\n",
              "    <tr>\n",
              "      <th>1996</th>\n",
              "      <td>0</td>\n",
              "      <td>0</td>\n",
              "      <td>0</td>\n",
              "      <td>0</td>\n",
              "      <td>0</td>\n",
              "      <td>0</td>\n",
              "      <td>0</td>\n",
              "      <td>0</td>\n",
              "      <td>0</td>\n",
              "      <td>0</td>\n",
              "      <td>0</td>\n",
              "    </tr>\n",
              "    <tr>\n",
              "      <th>1997</th>\n",
              "      <td>0</td>\n",
              "      <td>0</td>\n",
              "      <td>0</td>\n",
              "      <td>0</td>\n",
              "      <td>0</td>\n",
              "      <td>0</td>\n",
              "      <td>0</td>\n",
              "      <td>0</td>\n",
              "      <td>0</td>\n",
              "      <td>0</td>\n",
              "      <td>0</td>\n",
              "    </tr>\n",
              "    <tr>\n",
              "      <th>1998</th>\n",
              "      <td>0</td>\n",
              "      <td>0</td>\n",
              "      <td>1</td>\n",
              "      <td>0</td>\n",
              "      <td>0</td>\n",
              "      <td>0</td>\n",
              "      <td>0</td>\n",
              "      <td>0</td>\n",
              "      <td>0</td>\n",
              "      <td>0</td>\n",
              "      <td>0</td>\n",
              "    </tr>\n",
              "    <tr>\n",
              "      <th>1999</th>\n",
              "      <td>0</td>\n",
              "      <td>0</td>\n",
              "      <td>0</td>\n",
              "      <td>0</td>\n",
              "      <td>0</td>\n",
              "      <td>0</td>\n",
              "      <td>0</td>\n",
              "      <td>0</td>\n",
              "      <td>0</td>\n",
              "      <td>0</td>\n",
              "      <td>0</td>\n",
              "    </tr>\n",
              "  </tbody>\n",
              "</table>\n",
              "<p>2000 rows × 11 columns</p>\n",
              "</div>"
            ],
            "text/plain": [
              "      ChildBks  YouthBks  CookBks  ...  ItalAtlas  ItalArt  Florence\n",
              "0            0         1        0  ...          0        0         0\n",
              "1            1         0        0  ...          0        0         0\n",
              "2            0         0        0  ...          0        0         0\n",
              "3            1         1        1  ...          0        0         0\n",
              "4            0         0        1  ...          0        0         0\n",
              "...        ...       ...      ...  ...        ...      ...       ...\n",
              "1995         0         0        1  ...          0        1         1\n",
              "1996         0         0        0  ...          0        0         0\n",
              "1997         0         0        0  ...          0        0         0\n",
              "1998         0         0        1  ...          0        0         0\n",
              "1999         0         0        0  ...          0        0         0\n",
              "\n",
              "[2000 rows x 11 columns]"
            ]
          },
          "metadata": {
            "tags": []
          },
          "execution_count": 38
        }
      ]
    },
    {
      "cell_type": "code",
      "metadata": {
        "ExecuteTime": {
          "end_time": "2021-07-26T10:16:45.582419Z",
          "start_time": "2021-07-26T10:16:45.530436Z"
        },
        "colab": {
          "base_uri": "https://localhost:8080/",
          "height": 203
        },
        "id": "FrtiHDsAFnYI",
        "outputId": "77ec1606-3b35-4994-f69e-2d9765d376d0"
      },
      "source": [
        "books.head()"
      ],
      "execution_count": 39,
      "outputs": [
        {
          "output_type": "execute_result",
          "data": {
            "text/html": [
              "<div>\n",
              "<style scoped>\n",
              "    .dataframe tbody tr th:only-of-type {\n",
              "        vertical-align: middle;\n",
              "    }\n",
              "\n",
              "    .dataframe tbody tr th {\n",
              "        vertical-align: top;\n",
              "    }\n",
              "\n",
              "    .dataframe thead th {\n",
              "        text-align: right;\n",
              "    }\n",
              "</style>\n",
              "<table border=\"1\" class=\"dataframe\">\n",
              "  <thead>\n",
              "    <tr style=\"text-align: right;\">\n",
              "      <th></th>\n",
              "      <th>ChildBks</th>\n",
              "      <th>YouthBks</th>\n",
              "      <th>CookBks</th>\n",
              "      <th>DoItYBks</th>\n",
              "      <th>RefBks</th>\n",
              "      <th>ArtBks</th>\n",
              "      <th>GeogBks</th>\n",
              "      <th>ItalCook</th>\n",
              "      <th>ItalAtlas</th>\n",
              "      <th>ItalArt</th>\n",
              "      <th>Florence</th>\n",
              "    </tr>\n",
              "  </thead>\n",
              "  <tbody>\n",
              "    <tr>\n",
              "      <th>0</th>\n",
              "      <td>0</td>\n",
              "      <td>1</td>\n",
              "      <td>0</td>\n",
              "      <td>1</td>\n",
              "      <td>0</td>\n",
              "      <td>0</td>\n",
              "      <td>1</td>\n",
              "      <td>0</td>\n",
              "      <td>0</td>\n",
              "      <td>0</td>\n",
              "      <td>0</td>\n",
              "    </tr>\n",
              "    <tr>\n",
              "      <th>1</th>\n",
              "      <td>1</td>\n",
              "      <td>0</td>\n",
              "      <td>0</td>\n",
              "      <td>0</td>\n",
              "      <td>0</td>\n",
              "      <td>0</td>\n",
              "      <td>0</td>\n",
              "      <td>0</td>\n",
              "      <td>0</td>\n",
              "      <td>0</td>\n",
              "      <td>0</td>\n",
              "    </tr>\n",
              "    <tr>\n",
              "      <th>2</th>\n",
              "      <td>0</td>\n",
              "      <td>0</td>\n",
              "      <td>0</td>\n",
              "      <td>0</td>\n",
              "      <td>0</td>\n",
              "      <td>0</td>\n",
              "      <td>0</td>\n",
              "      <td>0</td>\n",
              "      <td>0</td>\n",
              "      <td>0</td>\n",
              "      <td>0</td>\n",
              "    </tr>\n",
              "    <tr>\n",
              "      <th>3</th>\n",
              "      <td>1</td>\n",
              "      <td>1</td>\n",
              "      <td>1</td>\n",
              "      <td>0</td>\n",
              "      <td>1</td>\n",
              "      <td>0</td>\n",
              "      <td>1</td>\n",
              "      <td>0</td>\n",
              "      <td>0</td>\n",
              "      <td>0</td>\n",
              "      <td>0</td>\n",
              "    </tr>\n",
              "    <tr>\n",
              "      <th>4</th>\n",
              "      <td>0</td>\n",
              "      <td>0</td>\n",
              "      <td>1</td>\n",
              "      <td>0</td>\n",
              "      <td>0</td>\n",
              "      <td>0</td>\n",
              "      <td>1</td>\n",
              "      <td>0</td>\n",
              "      <td>0</td>\n",
              "      <td>0</td>\n",
              "      <td>0</td>\n",
              "    </tr>\n",
              "  </tbody>\n",
              "</table>\n",
              "</div>"
            ],
            "text/plain": [
              "   ChildBks  YouthBks  CookBks  ...  ItalAtlas  ItalArt  Florence\n",
              "0         0         1        0  ...          0        0         0\n",
              "1         1         0        0  ...          0        0         0\n",
              "2         0         0        0  ...          0        0         0\n",
              "3         1         1        1  ...          0        0         0\n",
              "4         0         0        1  ...          0        0         0\n",
              "\n",
              "[5 rows x 11 columns]"
            ]
          },
          "metadata": {
            "tags": []
          },
          "execution_count": 39
        }
      ]
    },
    {
      "cell_type": "code",
      "metadata": {
        "ExecuteTime": {
          "end_time": "2021-07-26T10:16:48.492460Z",
          "start_time": "2021-07-26T10:16:47.651803Z"
        },
        "colab": {
          "base_uri": "https://localhost:8080/"
        },
        "id": "dhWfvxdpFnYJ",
        "outputId": "f7f04155-e8c5-4ddf-b101-b74b9cdfd163"
      },
      "source": [
        "books.info()"
      ],
      "execution_count": 40,
      "outputs": [
        {
          "output_type": "stream",
          "text": [
            "<class 'pandas.core.frame.DataFrame'>\n",
            "RangeIndex: 2000 entries, 0 to 1999\n",
            "Data columns (total 11 columns):\n",
            " #   Column     Non-Null Count  Dtype\n",
            "---  ------     --------------  -----\n",
            " 0   ChildBks   2000 non-null   int64\n",
            " 1   YouthBks   2000 non-null   int64\n",
            " 2   CookBks    2000 non-null   int64\n",
            " 3   DoItYBks   2000 non-null   int64\n",
            " 4   RefBks     2000 non-null   int64\n",
            " 5   ArtBks     2000 non-null   int64\n",
            " 6   GeogBks    2000 non-null   int64\n",
            " 7   ItalCook   2000 non-null   int64\n",
            " 8   ItalAtlas  2000 non-null   int64\n",
            " 9   ItalArt    2000 non-null   int64\n",
            " 10  Florence   2000 non-null   int64\n",
            "dtypes: int64(11)\n",
            "memory usage: 172.0 KB\n"
          ],
          "name": "stdout"
        }
      ]
    },
    {
      "cell_type": "markdown",
      "metadata": {
        "id": "PYNJLAVpFnYK"
      },
      "source": [
        "# Apriori Algorithm"
      ]
    },
    {
      "cell_type": "markdown",
      "metadata": {
        "id": "tPqmzJIJFnYK"
      },
      "source": [
        "# Associations Rule with 0.10% support and 0.70% confidence interval"
      ]
    },
    {
      "cell_type": "code",
      "metadata": {
        "ExecuteTime": {
          "end_time": "2021-07-26T10:16:53.772265Z",
          "start_time": "2021-07-26T10:16:53.494709Z"
        },
        "id": "f6Z7d_StFnYL"
      },
      "source": [
        "## with 0.10% support\n",
        "frequent_itemsets = apriori(books,min_support=0.1,use_colnames= True)\n",
        "frequent_itemsets['lenght']= frequent_itemsets['itemsets'].apply(lambda x:len(x))"
      ],
      "execution_count": 56,
      "outputs": []
    },
    {
      "cell_type": "code",
      "metadata": {
        "ExecuteTime": {
          "end_time": "2021-07-26T10:16:55.905720Z",
          "start_time": "2021-07-26T10:16:55.830874Z"
        },
        "colab": {
          "base_uri": "https://localhost:8080/",
          "height": 1000
        },
        "id": "akX9zW5yFnYM",
        "outputId": "39a1ca9c-e01b-4954-ac26-c2c7793c8cb7"
      },
      "source": [
        "frequent_itemsets"
      ],
      "execution_count": 57,
      "outputs": [
        {
          "output_type": "execute_result",
          "data": {
            "text/html": [
              "<div>\n",
              "<style scoped>\n",
              "    .dataframe tbody tr th:only-of-type {\n",
              "        vertical-align: middle;\n",
              "    }\n",
              "\n",
              "    .dataframe tbody tr th {\n",
              "        vertical-align: top;\n",
              "    }\n",
              "\n",
              "    .dataframe thead th {\n",
              "        text-align: right;\n",
              "    }\n",
              "</style>\n",
              "<table border=\"1\" class=\"dataframe\">\n",
              "  <thead>\n",
              "    <tr style=\"text-align: right;\">\n",
              "      <th></th>\n",
              "      <th>support</th>\n",
              "      <th>itemsets</th>\n",
              "      <th>lenght</th>\n",
              "    </tr>\n",
              "  </thead>\n",
              "  <tbody>\n",
              "    <tr>\n",
              "      <th>0</th>\n",
              "      <td>0.4230</td>\n",
              "      <td>(ChildBks)</td>\n",
              "      <td>1</td>\n",
              "    </tr>\n",
              "    <tr>\n",
              "      <th>1</th>\n",
              "      <td>0.2475</td>\n",
              "      <td>(YouthBks)</td>\n",
              "      <td>1</td>\n",
              "    </tr>\n",
              "    <tr>\n",
              "      <th>2</th>\n",
              "      <td>0.4310</td>\n",
              "      <td>(CookBks)</td>\n",
              "      <td>1</td>\n",
              "    </tr>\n",
              "    <tr>\n",
              "      <th>3</th>\n",
              "      <td>0.2820</td>\n",
              "      <td>(DoItYBks)</td>\n",
              "      <td>1</td>\n",
              "    </tr>\n",
              "    <tr>\n",
              "      <th>4</th>\n",
              "      <td>0.2145</td>\n",
              "      <td>(RefBks)</td>\n",
              "      <td>1</td>\n",
              "    </tr>\n",
              "    <tr>\n",
              "      <th>5</th>\n",
              "      <td>0.2410</td>\n",
              "      <td>(ArtBks)</td>\n",
              "      <td>1</td>\n",
              "    </tr>\n",
              "    <tr>\n",
              "      <th>6</th>\n",
              "      <td>0.2760</td>\n",
              "      <td>(GeogBks)</td>\n",
              "      <td>1</td>\n",
              "    </tr>\n",
              "    <tr>\n",
              "      <th>7</th>\n",
              "      <td>0.1135</td>\n",
              "      <td>(ItalCook)</td>\n",
              "      <td>1</td>\n",
              "    </tr>\n",
              "    <tr>\n",
              "      <th>8</th>\n",
              "      <td>0.1085</td>\n",
              "      <td>(Florence)</td>\n",
              "      <td>1</td>\n",
              "    </tr>\n",
              "    <tr>\n",
              "      <th>9</th>\n",
              "      <td>0.1650</td>\n",
              "      <td>(ChildBks, YouthBks)</td>\n",
              "      <td>2</td>\n",
              "    </tr>\n",
              "    <tr>\n",
              "      <th>10</th>\n",
              "      <td>0.2560</td>\n",
              "      <td>(ChildBks, CookBks)</td>\n",
              "      <td>2</td>\n",
              "    </tr>\n",
              "    <tr>\n",
              "      <th>11</th>\n",
              "      <td>0.1840</td>\n",
              "      <td>(ChildBks, DoItYBks)</td>\n",
              "      <td>2</td>\n",
              "    </tr>\n",
              "    <tr>\n",
              "      <th>12</th>\n",
              "      <td>0.1515</td>\n",
              "      <td>(ChildBks, RefBks)</td>\n",
              "      <td>2</td>\n",
              "    </tr>\n",
              "    <tr>\n",
              "      <th>13</th>\n",
              "      <td>0.1625</td>\n",
              "      <td>(ChildBks, ArtBks)</td>\n",
              "      <td>2</td>\n",
              "    </tr>\n",
              "    <tr>\n",
              "      <th>14</th>\n",
              "      <td>0.1950</td>\n",
              "      <td>(ChildBks, GeogBks)</td>\n",
              "      <td>2</td>\n",
              "    </tr>\n",
              "    <tr>\n",
              "      <th>15</th>\n",
              "      <td>0.1620</td>\n",
              "      <td>(CookBks, YouthBks)</td>\n",
              "      <td>2</td>\n",
              "    </tr>\n",
              "    <tr>\n",
              "      <th>16</th>\n",
              "      <td>0.1155</td>\n",
              "      <td>(DoItYBks, YouthBks)</td>\n",
              "      <td>2</td>\n",
              "    </tr>\n",
              "    <tr>\n",
              "      <th>17</th>\n",
              "      <td>0.1010</td>\n",
              "      <td>(ArtBks, YouthBks)</td>\n",
              "      <td>2</td>\n",
              "    </tr>\n",
              "    <tr>\n",
              "      <th>18</th>\n",
              "      <td>0.1205</td>\n",
              "      <td>(GeogBks, YouthBks)</td>\n",
              "      <td>2</td>\n",
              "    </tr>\n",
              "    <tr>\n",
              "      <th>19</th>\n",
              "      <td>0.1875</td>\n",
              "      <td>(DoItYBks, CookBks)</td>\n",
              "      <td>2</td>\n",
              "    </tr>\n",
              "    <tr>\n",
              "      <th>20</th>\n",
              "      <td>0.1525</td>\n",
              "      <td>(CookBks, RefBks)</td>\n",
              "      <td>2</td>\n",
              "    </tr>\n",
              "    <tr>\n",
              "      <th>21</th>\n",
              "      <td>0.1670</td>\n",
              "      <td>(ArtBks, CookBks)</td>\n",
              "      <td>2</td>\n",
              "    </tr>\n",
              "    <tr>\n",
              "      <th>22</th>\n",
              "      <td>0.1925</td>\n",
              "      <td>(GeogBks, CookBks)</td>\n",
              "      <td>2</td>\n",
              "    </tr>\n",
              "    <tr>\n",
              "      <th>23</th>\n",
              "      <td>0.1135</td>\n",
              "      <td>(CookBks, ItalCook)</td>\n",
              "      <td>2</td>\n",
              "    </tr>\n",
              "    <tr>\n",
              "      <th>24</th>\n",
              "      <td>0.1055</td>\n",
              "      <td>(DoItYBks, RefBks)</td>\n",
              "      <td>2</td>\n",
              "    </tr>\n",
              "    <tr>\n",
              "      <th>25</th>\n",
              "      <td>0.1235</td>\n",
              "      <td>(ArtBks, DoItYBks)</td>\n",
              "      <td>2</td>\n",
              "    </tr>\n",
              "    <tr>\n",
              "      <th>26</th>\n",
              "      <td>0.1325</td>\n",
              "      <td>(GeogBks, DoItYBks)</td>\n",
              "      <td>2</td>\n",
              "    </tr>\n",
              "    <tr>\n",
              "      <th>27</th>\n",
              "      <td>0.1105</td>\n",
              "      <td>(GeogBks, RefBks)</td>\n",
              "      <td>2</td>\n",
              "    </tr>\n",
              "    <tr>\n",
              "      <th>28</th>\n",
              "      <td>0.1275</td>\n",
              "      <td>(GeogBks, ArtBks)</td>\n",
              "      <td>2</td>\n",
              "    </tr>\n",
              "    <tr>\n",
              "      <th>29</th>\n",
              "      <td>0.1290</td>\n",
              "      <td>(ChildBks, CookBks, YouthBks)</td>\n",
              "      <td>3</td>\n",
              "    </tr>\n",
              "    <tr>\n",
              "      <th>30</th>\n",
              "      <td>0.1460</td>\n",
              "      <td>(ChildBks, DoItYBks, CookBks)</td>\n",
              "      <td>3</td>\n",
              "    </tr>\n",
              "    <tr>\n",
              "      <th>31</th>\n",
              "      <td>0.1225</td>\n",
              "      <td>(ChildBks, CookBks, RefBks)</td>\n",
              "      <td>3</td>\n",
              "    </tr>\n",
              "    <tr>\n",
              "      <th>32</th>\n",
              "      <td>0.1265</td>\n",
              "      <td>(ChildBks, ArtBks, CookBks)</td>\n",
              "      <td>3</td>\n",
              "    </tr>\n",
              "    <tr>\n",
              "      <th>33</th>\n",
              "      <td>0.1495</td>\n",
              "      <td>(ChildBks, GeogBks, CookBks)</td>\n",
              "      <td>3</td>\n",
              "    </tr>\n",
              "    <tr>\n",
              "      <th>34</th>\n",
              "      <td>0.1045</td>\n",
              "      <td>(ChildBks, DoItYBks, GeogBks)</td>\n",
              "      <td>3</td>\n",
              "    </tr>\n",
              "    <tr>\n",
              "      <th>35</th>\n",
              "      <td>0.1020</td>\n",
              "      <td>(ChildBks, ArtBks, GeogBks)</td>\n",
              "      <td>3</td>\n",
              "    </tr>\n",
              "    <tr>\n",
              "      <th>36</th>\n",
              "      <td>0.1015</td>\n",
              "      <td>(ArtBks, DoItYBks, CookBks)</td>\n",
              "      <td>3</td>\n",
              "    </tr>\n",
              "    <tr>\n",
              "      <th>37</th>\n",
              "      <td>0.1085</td>\n",
              "      <td>(GeogBks, DoItYBks, CookBks)</td>\n",
              "      <td>3</td>\n",
              "    </tr>\n",
              "    <tr>\n",
              "      <th>38</th>\n",
              "      <td>0.1035</td>\n",
              "      <td>(GeogBks, ArtBks, CookBks)</td>\n",
              "      <td>3</td>\n",
              "    </tr>\n",
              "  </tbody>\n",
              "</table>\n",
              "</div>"
            ],
            "text/plain": [
              "    support                       itemsets  lenght\n",
              "0    0.4230                     (ChildBks)       1\n",
              "1    0.2475                     (YouthBks)       1\n",
              "2    0.4310                      (CookBks)       1\n",
              "3    0.2820                     (DoItYBks)       1\n",
              "4    0.2145                       (RefBks)       1\n",
              "5    0.2410                       (ArtBks)       1\n",
              "6    0.2760                      (GeogBks)       1\n",
              "7    0.1135                     (ItalCook)       1\n",
              "8    0.1085                     (Florence)       1\n",
              "9    0.1650           (ChildBks, YouthBks)       2\n",
              "10   0.2560            (ChildBks, CookBks)       2\n",
              "11   0.1840           (ChildBks, DoItYBks)       2\n",
              "12   0.1515             (ChildBks, RefBks)       2\n",
              "13   0.1625             (ChildBks, ArtBks)       2\n",
              "14   0.1950            (ChildBks, GeogBks)       2\n",
              "15   0.1620            (CookBks, YouthBks)       2\n",
              "16   0.1155           (DoItYBks, YouthBks)       2\n",
              "17   0.1010             (ArtBks, YouthBks)       2\n",
              "18   0.1205            (GeogBks, YouthBks)       2\n",
              "19   0.1875            (DoItYBks, CookBks)       2\n",
              "20   0.1525              (CookBks, RefBks)       2\n",
              "21   0.1670              (ArtBks, CookBks)       2\n",
              "22   0.1925             (GeogBks, CookBks)       2\n",
              "23   0.1135            (CookBks, ItalCook)       2\n",
              "24   0.1055             (DoItYBks, RefBks)       2\n",
              "25   0.1235             (ArtBks, DoItYBks)       2\n",
              "26   0.1325            (GeogBks, DoItYBks)       2\n",
              "27   0.1105              (GeogBks, RefBks)       2\n",
              "28   0.1275              (GeogBks, ArtBks)       2\n",
              "29   0.1290  (ChildBks, CookBks, YouthBks)       3\n",
              "30   0.1460  (ChildBks, DoItYBks, CookBks)       3\n",
              "31   0.1225    (ChildBks, CookBks, RefBks)       3\n",
              "32   0.1265    (ChildBks, ArtBks, CookBks)       3\n",
              "33   0.1495   (ChildBks, GeogBks, CookBks)       3\n",
              "34   0.1045  (ChildBks, DoItYBks, GeogBks)       3\n",
              "35   0.1020    (ChildBks, ArtBks, GeogBks)       3\n",
              "36   0.1015    (ArtBks, DoItYBks, CookBks)       3\n",
              "37   0.1085   (GeogBks, DoItYBks, CookBks)       3\n",
              "38   0.1035     (GeogBks, ArtBks, CookBks)       3"
            ]
          },
          "metadata": {
            "tags": []
          },
          "execution_count": 57
        }
      ]
    },
    {
      "cell_type": "code",
      "metadata": {
        "ExecuteTime": {
          "end_time": "2021-07-26T10:17:01.316163Z",
          "start_time": "2021-07-26T10:17:01.241677Z"
        },
        "id": "Z6h08DV1FnYN"
      },
      "source": [
        "## with 0.70% threshold or confidence\n",
        "rules = association_rules(frequent_itemsets,metric = 'lift',min_threshold=0.7)"
      ],
      "execution_count": 43,
      "outputs": []
    },
    {
      "cell_type": "code",
      "metadata": {
        "ExecuteTime": {
          "end_time": "2021-07-26T10:17:04.666536Z",
          "start_time": "2021-07-26T10:17:03.519412Z"
        },
        "colab": {
          "base_uri": "https://localhost:8080/",
          "height": 417
        },
        "id": "HLGtlyqeFnYO",
        "outputId": "7c16ba4e-45d1-479f-d861-12b091fb3a93"
      },
      "source": [
        "rules"
      ],
      "execution_count": 44,
      "outputs": [
        {
          "output_type": "execute_result",
          "data": {
            "text/html": [
              "<div>\n",
              "<style scoped>\n",
              "    .dataframe tbody tr th:only-of-type {\n",
              "        vertical-align: middle;\n",
              "    }\n",
              "\n",
              "    .dataframe tbody tr th {\n",
              "        vertical-align: top;\n",
              "    }\n",
              "\n",
              "    .dataframe thead th {\n",
              "        text-align: right;\n",
              "    }\n",
              "</style>\n",
              "<table border=\"1\" class=\"dataframe\">\n",
              "  <thead>\n",
              "    <tr style=\"text-align: right;\">\n",
              "      <th></th>\n",
              "      <th>antecedents</th>\n",
              "      <th>consequents</th>\n",
              "      <th>antecedent support</th>\n",
              "      <th>consequent support</th>\n",
              "      <th>support</th>\n",
              "      <th>confidence</th>\n",
              "      <th>lift</th>\n",
              "      <th>leverage</th>\n",
              "      <th>conviction</th>\n",
              "    </tr>\n",
              "  </thead>\n",
              "  <tbody>\n",
              "    <tr>\n",
              "      <th>0</th>\n",
              "      <td>(ChildBks)</td>\n",
              "      <td>(YouthBks)</td>\n",
              "      <td>0.4230</td>\n",
              "      <td>0.2475</td>\n",
              "      <td>0.1650</td>\n",
              "      <td>0.390071</td>\n",
              "      <td>1.576044</td>\n",
              "      <td>0.060308</td>\n",
              "      <td>1.233750</td>\n",
              "    </tr>\n",
              "    <tr>\n",
              "      <th>1</th>\n",
              "      <td>(YouthBks)</td>\n",
              "      <td>(ChildBks)</td>\n",
              "      <td>0.2475</td>\n",
              "      <td>0.4230</td>\n",
              "      <td>0.1650</td>\n",
              "      <td>0.666667</td>\n",
              "      <td>1.576044</td>\n",
              "      <td>0.060308</td>\n",
              "      <td>1.731000</td>\n",
              "    </tr>\n",
              "    <tr>\n",
              "      <th>2</th>\n",
              "      <td>(ChildBks)</td>\n",
              "      <td>(CookBks)</td>\n",
              "      <td>0.4230</td>\n",
              "      <td>0.4310</td>\n",
              "      <td>0.2560</td>\n",
              "      <td>0.605201</td>\n",
              "      <td>1.404179</td>\n",
              "      <td>0.073687</td>\n",
              "      <td>1.441240</td>\n",
              "    </tr>\n",
              "    <tr>\n",
              "      <th>3</th>\n",
              "      <td>(CookBks)</td>\n",
              "      <td>(ChildBks)</td>\n",
              "      <td>0.4310</td>\n",
              "      <td>0.4230</td>\n",
              "      <td>0.2560</td>\n",
              "      <td>0.593968</td>\n",
              "      <td>1.404179</td>\n",
              "      <td>0.073687</td>\n",
              "      <td>1.421069</td>\n",
              "    </tr>\n",
              "    <tr>\n",
              "      <th>4</th>\n",
              "      <td>(ChildBks)</td>\n",
              "      <td>(DoItYBks)</td>\n",
              "      <td>0.4230</td>\n",
              "      <td>0.2820</td>\n",
              "      <td>0.1840</td>\n",
              "      <td>0.434988</td>\n",
              "      <td>1.542511</td>\n",
              "      <td>0.064714</td>\n",
              "      <td>1.270770</td>\n",
              "    </tr>\n",
              "    <tr>\n",
              "      <th>...</th>\n",
              "      <td>...</td>\n",
              "      <td>...</td>\n",
              "      <td>...</td>\n",
              "      <td>...</td>\n",
              "      <td>...</td>\n",
              "      <td>...</td>\n",
              "      <td>...</td>\n",
              "      <td>...</td>\n",
              "      <td>...</td>\n",
              "    </tr>\n",
              "    <tr>\n",
              "      <th>95</th>\n",
              "      <td>(GeogBks, CookBks)</td>\n",
              "      <td>(ArtBks)</td>\n",
              "      <td>0.1925</td>\n",
              "      <td>0.2410</td>\n",
              "      <td>0.1035</td>\n",
              "      <td>0.537662</td>\n",
              "      <td>2.230964</td>\n",
              "      <td>0.057107</td>\n",
              "      <td>1.641657</td>\n",
              "    </tr>\n",
              "    <tr>\n",
              "      <th>96</th>\n",
              "      <td>(ArtBks, CookBks)</td>\n",
              "      <td>(GeogBks)</td>\n",
              "      <td>0.1670</td>\n",
              "      <td>0.2760</td>\n",
              "      <td>0.1035</td>\n",
              "      <td>0.619760</td>\n",
              "      <td>2.245509</td>\n",
              "      <td>0.057408</td>\n",
              "      <td>1.904063</td>\n",
              "    </tr>\n",
              "    <tr>\n",
              "      <th>97</th>\n",
              "      <td>(GeogBks)</td>\n",
              "      <td>(ArtBks, CookBks)</td>\n",
              "      <td>0.2760</td>\n",
              "      <td>0.1670</td>\n",
              "      <td>0.1035</td>\n",
              "      <td>0.375000</td>\n",
              "      <td>2.245509</td>\n",
              "      <td>0.057408</td>\n",
              "      <td>1.332800</td>\n",
              "    </tr>\n",
              "    <tr>\n",
              "      <th>98</th>\n",
              "      <td>(ArtBks)</td>\n",
              "      <td>(GeogBks, CookBks)</td>\n",
              "      <td>0.2410</td>\n",
              "      <td>0.1925</td>\n",
              "      <td>0.1035</td>\n",
              "      <td>0.429461</td>\n",
              "      <td>2.230964</td>\n",
              "      <td>0.057107</td>\n",
              "      <td>1.415327</td>\n",
              "    </tr>\n",
              "    <tr>\n",
              "      <th>99</th>\n",
              "      <td>(CookBks)</td>\n",
              "      <td>(GeogBks, ArtBks)</td>\n",
              "      <td>0.4310</td>\n",
              "      <td>0.1275</td>\n",
              "      <td>0.1035</td>\n",
              "      <td>0.240139</td>\n",
              "      <td>1.883445</td>\n",
              "      <td>0.048547</td>\n",
              "      <td>1.148237</td>\n",
              "    </tr>\n",
              "  </tbody>\n",
              "</table>\n",
              "<p>100 rows × 9 columns</p>\n",
              "</div>"
            ],
            "text/plain": [
              "           antecedents         consequents  ...  leverage  conviction\n",
              "0           (ChildBks)          (YouthBks)  ...  0.060308    1.233750\n",
              "1           (YouthBks)          (ChildBks)  ...  0.060308    1.731000\n",
              "2           (ChildBks)           (CookBks)  ...  0.073687    1.441240\n",
              "3            (CookBks)          (ChildBks)  ...  0.073687    1.421069\n",
              "4           (ChildBks)          (DoItYBks)  ...  0.064714    1.270770\n",
              "..                 ...                 ...  ...       ...         ...\n",
              "95  (GeogBks, CookBks)            (ArtBks)  ...  0.057107    1.641657\n",
              "96   (ArtBks, CookBks)           (GeogBks)  ...  0.057408    1.904063\n",
              "97           (GeogBks)   (ArtBks, CookBks)  ...  0.057408    1.332800\n",
              "98            (ArtBks)  (GeogBks, CookBks)  ...  0.057107    1.415327\n",
              "99           (CookBks)   (GeogBks, ArtBks)  ...  0.048547    1.148237\n",
              "\n",
              "[100 rows x 9 columns]"
            ]
          },
          "metadata": {
            "tags": []
          },
          "execution_count": 44
        }
      ]
    },
    {
      "cell_type": "code",
      "metadata": {
        "colab": {
          "base_uri": "https://localhost:8080/",
          "height": 417
        },
        "id": "65mq8u6LMQoa",
        "outputId": "d9f4fd68-96b5-4855-ea32-291d3687d0e9"
      },
      "source": [
        "rules['antecedents_len']= rules['antecedents'].apply(lambda x: len(x))\n",
        "rules"
      ],
      "execution_count": 59,
      "outputs": [
        {
          "output_type": "execute_result",
          "data": {
            "text/html": [
              "<div>\n",
              "<style scoped>\n",
              "    .dataframe tbody tr th:only-of-type {\n",
              "        vertical-align: middle;\n",
              "    }\n",
              "\n",
              "    .dataframe tbody tr th {\n",
              "        vertical-align: top;\n",
              "    }\n",
              "\n",
              "    .dataframe thead th {\n",
              "        text-align: right;\n",
              "    }\n",
              "</style>\n",
              "<table border=\"1\" class=\"dataframe\">\n",
              "  <thead>\n",
              "    <tr style=\"text-align: right;\">\n",
              "      <th></th>\n",
              "      <th>antecedents</th>\n",
              "      <th>consequents</th>\n",
              "      <th>antecedent support</th>\n",
              "      <th>consequent support</th>\n",
              "      <th>support</th>\n",
              "      <th>confidence</th>\n",
              "      <th>lift</th>\n",
              "      <th>leverage</th>\n",
              "      <th>conviction</th>\n",
              "      <th>antecedent_len</th>\n",
              "      <th>antecedents_len</th>\n",
              "    </tr>\n",
              "  </thead>\n",
              "  <tbody>\n",
              "    <tr>\n",
              "      <th>0</th>\n",
              "      <td>(ChildBks)</td>\n",
              "      <td>(YouthBks)</td>\n",
              "      <td>0.4230</td>\n",
              "      <td>0.2475</td>\n",
              "      <td>0.1650</td>\n",
              "      <td>0.390071</td>\n",
              "      <td>1.576044</td>\n",
              "      <td>0.060308</td>\n",
              "      <td>1.233750</td>\n",
              "      <td>1</td>\n",
              "      <td>1</td>\n",
              "    </tr>\n",
              "    <tr>\n",
              "      <th>1</th>\n",
              "      <td>(YouthBks)</td>\n",
              "      <td>(ChildBks)</td>\n",
              "      <td>0.2475</td>\n",
              "      <td>0.4230</td>\n",
              "      <td>0.1650</td>\n",
              "      <td>0.666667</td>\n",
              "      <td>1.576044</td>\n",
              "      <td>0.060308</td>\n",
              "      <td>1.731000</td>\n",
              "      <td>1</td>\n",
              "      <td>1</td>\n",
              "    </tr>\n",
              "    <tr>\n",
              "      <th>2</th>\n",
              "      <td>(ChildBks)</td>\n",
              "      <td>(CookBks)</td>\n",
              "      <td>0.4230</td>\n",
              "      <td>0.4310</td>\n",
              "      <td>0.2560</td>\n",
              "      <td>0.605201</td>\n",
              "      <td>1.404179</td>\n",
              "      <td>0.073687</td>\n",
              "      <td>1.441240</td>\n",
              "      <td>1</td>\n",
              "      <td>1</td>\n",
              "    </tr>\n",
              "    <tr>\n",
              "      <th>3</th>\n",
              "      <td>(CookBks)</td>\n",
              "      <td>(ChildBks)</td>\n",
              "      <td>0.4310</td>\n",
              "      <td>0.4230</td>\n",
              "      <td>0.2560</td>\n",
              "      <td>0.593968</td>\n",
              "      <td>1.404179</td>\n",
              "      <td>0.073687</td>\n",
              "      <td>1.421069</td>\n",
              "      <td>1</td>\n",
              "      <td>1</td>\n",
              "    </tr>\n",
              "    <tr>\n",
              "      <th>4</th>\n",
              "      <td>(ChildBks)</td>\n",
              "      <td>(DoItYBks)</td>\n",
              "      <td>0.4230</td>\n",
              "      <td>0.2820</td>\n",
              "      <td>0.1840</td>\n",
              "      <td>0.434988</td>\n",
              "      <td>1.542511</td>\n",
              "      <td>0.064714</td>\n",
              "      <td>1.270770</td>\n",
              "      <td>1</td>\n",
              "      <td>1</td>\n",
              "    </tr>\n",
              "    <tr>\n",
              "      <th>...</th>\n",
              "      <td>...</td>\n",
              "      <td>...</td>\n",
              "      <td>...</td>\n",
              "      <td>...</td>\n",
              "      <td>...</td>\n",
              "      <td>...</td>\n",
              "      <td>...</td>\n",
              "      <td>...</td>\n",
              "      <td>...</td>\n",
              "      <td>...</td>\n",
              "      <td>...</td>\n",
              "    </tr>\n",
              "    <tr>\n",
              "      <th>95</th>\n",
              "      <td>(GeogBks, CookBks)</td>\n",
              "      <td>(ArtBks)</td>\n",
              "      <td>0.1925</td>\n",
              "      <td>0.2410</td>\n",
              "      <td>0.1035</td>\n",
              "      <td>0.537662</td>\n",
              "      <td>2.230964</td>\n",
              "      <td>0.057107</td>\n",
              "      <td>1.641657</td>\n",
              "      <td>2</td>\n",
              "      <td>2</td>\n",
              "    </tr>\n",
              "    <tr>\n",
              "      <th>96</th>\n",
              "      <td>(ArtBks, CookBks)</td>\n",
              "      <td>(GeogBks)</td>\n",
              "      <td>0.1670</td>\n",
              "      <td>0.2760</td>\n",
              "      <td>0.1035</td>\n",
              "      <td>0.619760</td>\n",
              "      <td>2.245509</td>\n",
              "      <td>0.057408</td>\n",
              "      <td>1.904063</td>\n",
              "      <td>2</td>\n",
              "      <td>2</td>\n",
              "    </tr>\n",
              "    <tr>\n",
              "      <th>97</th>\n",
              "      <td>(GeogBks)</td>\n",
              "      <td>(ArtBks, CookBks)</td>\n",
              "      <td>0.2760</td>\n",
              "      <td>0.1670</td>\n",
              "      <td>0.1035</td>\n",
              "      <td>0.375000</td>\n",
              "      <td>2.245509</td>\n",
              "      <td>0.057408</td>\n",
              "      <td>1.332800</td>\n",
              "      <td>1</td>\n",
              "      <td>1</td>\n",
              "    </tr>\n",
              "    <tr>\n",
              "      <th>98</th>\n",
              "      <td>(ArtBks)</td>\n",
              "      <td>(GeogBks, CookBks)</td>\n",
              "      <td>0.2410</td>\n",
              "      <td>0.1925</td>\n",
              "      <td>0.1035</td>\n",
              "      <td>0.429461</td>\n",
              "      <td>2.230964</td>\n",
              "      <td>0.057107</td>\n",
              "      <td>1.415327</td>\n",
              "      <td>1</td>\n",
              "      <td>1</td>\n",
              "    </tr>\n",
              "    <tr>\n",
              "      <th>99</th>\n",
              "      <td>(CookBks)</td>\n",
              "      <td>(GeogBks, ArtBks)</td>\n",
              "      <td>0.4310</td>\n",
              "      <td>0.1275</td>\n",
              "      <td>0.1035</td>\n",
              "      <td>0.240139</td>\n",
              "      <td>1.883445</td>\n",
              "      <td>0.048547</td>\n",
              "      <td>1.148237</td>\n",
              "      <td>1</td>\n",
              "      <td>1</td>\n",
              "    </tr>\n",
              "  </tbody>\n",
              "</table>\n",
              "<p>100 rows × 11 columns</p>\n",
              "</div>"
            ],
            "text/plain": [
              "           antecedents         consequents  ...  antecedent_len  antecedents_len\n",
              "0           (ChildBks)          (YouthBks)  ...               1                1\n",
              "1           (YouthBks)          (ChildBks)  ...               1                1\n",
              "2           (ChildBks)           (CookBks)  ...               1                1\n",
              "3            (CookBks)          (ChildBks)  ...               1                1\n",
              "4           (ChildBks)          (DoItYBks)  ...               1                1\n",
              "..                 ...                 ...  ...             ...              ...\n",
              "95  (GeogBks, CookBks)            (ArtBks)  ...               2                2\n",
              "96   (ArtBks, CookBks)           (GeogBks)  ...               2                2\n",
              "97           (GeogBks)   (ArtBks, CookBks)  ...               1                1\n",
              "98            (ArtBks)  (GeogBks, CookBks)  ...               1                1\n",
              "99           (CookBks)   (GeogBks, ArtBks)  ...               1                1\n",
              "\n",
              "[100 rows x 11 columns]"
            ]
          },
          "metadata": {
            "tags": []
          },
          "execution_count": 59
        }
      ]
    },
    {
      "cell_type": "markdown",
      "metadata": {
        "id": "MhEcigfFmmai"
      },
      "source": [
        "# lenght = 1 with support >=0.10"
      ]
    },
    {
      "cell_type": "code",
      "metadata": {
        "colab": {
          "base_uri": "https://localhost:8080/",
          "height": 326
        },
        "id": "PYSqeeZ3jS8k",
        "outputId": "1062efb9-10e0-4890-d57c-b8f2701a57d3"
      },
      "source": [
        "##let's assume we are only interested in itemsets of length 1 that have a support >=0.10.\n",
        "frequent_itemsets[(frequent_itemsets['lenght']==1 )& (frequent_itemsets['support']>=0.10)]"
      ],
      "execution_count": 60,
      "outputs": [
        {
          "output_type": "execute_result",
          "data": {
            "text/html": [
              "<div>\n",
              "<style scoped>\n",
              "    .dataframe tbody tr th:only-of-type {\n",
              "        vertical-align: middle;\n",
              "    }\n",
              "\n",
              "    .dataframe tbody tr th {\n",
              "        vertical-align: top;\n",
              "    }\n",
              "\n",
              "    .dataframe thead th {\n",
              "        text-align: right;\n",
              "    }\n",
              "</style>\n",
              "<table border=\"1\" class=\"dataframe\">\n",
              "  <thead>\n",
              "    <tr style=\"text-align: right;\">\n",
              "      <th></th>\n",
              "      <th>support</th>\n",
              "      <th>itemsets</th>\n",
              "      <th>lenght</th>\n",
              "    </tr>\n",
              "  </thead>\n",
              "  <tbody>\n",
              "    <tr>\n",
              "      <th>0</th>\n",
              "      <td>0.4230</td>\n",
              "      <td>(ChildBks)</td>\n",
              "      <td>1</td>\n",
              "    </tr>\n",
              "    <tr>\n",
              "      <th>1</th>\n",
              "      <td>0.2475</td>\n",
              "      <td>(YouthBks)</td>\n",
              "      <td>1</td>\n",
              "    </tr>\n",
              "    <tr>\n",
              "      <th>2</th>\n",
              "      <td>0.4310</td>\n",
              "      <td>(CookBks)</td>\n",
              "      <td>1</td>\n",
              "    </tr>\n",
              "    <tr>\n",
              "      <th>3</th>\n",
              "      <td>0.2820</td>\n",
              "      <td>(DoItYBks)</td>\n",
              "      <td>1</td>\n",
              "    </tr>\n",
              "    <tr>\n",
              "      <th>4</th>\n",
              "      <td>0.2145</td>\n",
              "      <td>(RefBks)</td>\n",
              "      <td>1</td>\n",
              "    </tr>\n",
              "    <tr>\n",
              "      <th>5</th>\n",
              "      <td>0.2410</td>\n",
              "      <td>(ArtBks)</td>\n",
              "      <td>1</td>\n",
              "    </tr>\n",
              "    <tr>\n",
              "      <th>6</th>\n",
              "      <td>0.2760</td>\n",
              "      <td>(GeogBks)</td>\n",
              "      <td>1</td>\n",
              "    </tr>\n",
              "    <tr>\n",
              "      <th>7</th>\n",
              "      <td>0.1135</td>\n",
              "      <td>(ItalCook)</td>\n",
              "      <td>1</td>\n",
              "    </tr>\n",
              "    <tr>\n",
              "      <th>8</th>\n",
              "      <td>0.1085</td>\n",
              "      <td>(Florence)</td>\n",
              "      <td>1</td>\n",
              "    </tr>\n",
              "  </tbody>\n",
              "</table>\n",
              "</div>"
            ],
            "text/plain": [
              "   support    itemsets  lenght\n",
              "0   0.4230  (ChildBks)       1\n",
              "1   0.2475  (YouthBks)       1\n",
              "2   0.4310   (CookBks)       1\n",
              "3   0.2820  (DoItYBks)       1\n",
              "4   0.2145    (RefBks)       1\n",
              "5   0.2410    (ArtBks)       1\n",
              "6   0.2760   (GeogBks)       1\n",
              "7   0.1135  (ItalCook)       1\n",
              "8   0.1085  (Florence)       1"
            ]
          },
          "metadata": {
            "tags": []
          },
          "execution_count": 60
        }
      ]
    },
    {
      "cell_type": "markdown",
      "metadata": {
        "id": "2M-8BIc4m-Ed"
      },
      "source": [
        "#antecedent lenght =1"
      ]
    },
    {
      "cell_type": "code",
      "metadata": {
        "colab": {
          "base_uri": "https://localhost:8080/",
          "height": 172
        },
        "id": "ZZZFi6g9j00z",
        "outputId": "876a2144-a72e-4615-8f94-5d5804b6e920"
      },
      "source": [
        "rules[(rules['antecedents_len']==1) & (rules['confidence'] > 0.7) & (rules['lift']>1)]"
      ],
      "execution_count": 67,
      "outputs": [
        {
          "output_type": "execute_result",
          "data": {
            "text/html": [
              "<div>\n",
              "<style scoped>\n",
              "    .dataframe tbody tr th:only-of-type {\n",
              "        vertical-align: middle;\n",
              "    }\n",
              "\n",
              "    .dataframe tbody tr th {\n",
              "        vertical-align: top;\n",
              "    }\n",
              "\n",
              "    .dataframe thead th {\n",
              "        text-align: right;\n",
              "    }\n",
              "</style>\n",
              "<table border=\"1\" class=\"dataframe\">\n",
              "  <thead>\n",
              "    <tr style=\"text-align: right;\">\n",
              "      <th></th>\n",
              "      <th>antecedents</th>\n",
              "      <th>consequents</th>\n",
              "      <th>antecedent support</th>\n",
              "      <th>consequent support</th>\n",
              "      <th>support</th>\n",
              "      <th>confidence</th>\n",
              "      <th>lift</th>\n",
              "      <th>leverage</th>\n",
              "      <th>conviction</th>\n",
              "      <th>antecedent_len</th>\n",
              "      <th>antecedents_len</th>\n",
              "    </tr>\n",
              "  </thead>\n",
              "  <tbody>\n",
              "    <tr>\n",
              "      <th>7</th>\n",
              "      <td>(RefBks)</td>\n",
              "      <td>(ChildBks)</td>\n",
              "      <td>0.2145</td>\n",
              "      <td>0.423</td>\n",
              "      <td>0.1515</td>\n",
              "      <td>0.706294</td>\n",
              "      <td>1.669725</td>\n",
              "      <td>0.060767</td>\n",
              "      <td>1.964548</td>\n",
              "      <td>1</td>\n",
              "      <td>1</td>\n",
              "    </tr>\n",
              "    <tr>\n",
              "      <th>11</th>\n",
              "      <td>(GeogBks)</td>\n",
              "      <td>(ChildBks)</td>\n",
              "      <td>0.2760</td>\n",
              "      <td>0.423</td>\n",
              "      <td>0.1950</td>\n",
              "      <td>0.706522</td>\n",
              "      <td>1.670264</td>\n",
              "      <td>0.078252</td>\n",
              "      <td>1.966074</td>\n",
              "      <td>1</td>\n",
              "      <td>1</td>\n",
              "    </tr>\n",
              "    <tr>\n",
              "      <th>23</th>\n",
              "      <td>(RefBks)</td>\n",
              "      <td>(CookBks)</td>\n",
              "      <td>0.2145</td>\n",
              "      <td>0.431</td>\n",
              "      <td>0.1525</td>\n",
              "      <td>0.710956</td>\n",
              "      <td>1.649549</td>\n",
              "      <td>0.060050</td>\n",
              "      <td>1.968556</td>\n",
              "      <td>1</td>\n",
              "      <td>1</td>\n",
              "    </tr>\n",
              "    <tr>\n",
              "      <th>29</th>\n",
              "      <td>(ItalCook)</td>\n",
              "      <td>(CookBks)</td>\n",
              "      <td>0.1135</td>\n",
              "      <td>0.431</td>\n",
              "      <td>0.1135</td>\n",
              "      <td>1.000000</td>\n",
              "      <td>2.320186</td>\n",
              "      <td>0.064582</td>\n",
              "      <td>inf</td>\n",
              "      <td>1</td>\n",
              "      <td>1</td>\n",
              "    </tr>\n",
              "  </tbody>\n",
              "</table>\n",
              "</div>"
            ],
            "text/plain": [
              "   antecedents consequents  ...  antecedent_len  antecedents_len\n",
              "7     (RefBks)  (ChildBks)  ...               1                1\n",
              "11   (GeogBks)  (ChildBks)  ...               1                1\n",
              "23    (RefBks)   (CookBks)  ...               1                1\n",
              "29  (ItalCook)   (CookBks)  ...               1                1\n",
              "\n",
              "[4 rows x 11 columns]"
            ]
          },
          "metadata": {
            "tags": []
          },
          "execution_count": 67
        }
      ]
    },
    {
      "cell_type": "code",
      "metadata": {
        "colab": {
          "base_uri": "https://localhost:8080/",
          "height": 80
        },
        "id": "UVaBqrRhlNxl",
        "outputId": "279f764d-618e-471d-cadf-2238b35f2040"
      },
      "source": [
        "rules[(rules['antecedents_len']==1) & (rules['confidence'] > 0.80) & (rules['lift']>1.8)]"
      ],
      "execution_count": 73,
      "outputs": [
        {
          "output_type": "execute_result",
          "data": {
            "text/html": [
              "<div>\n",
              "<style scoped>\n",
              "    .dataframe tbody tr th:only-of-type {\n",
              "        vertical-align: middle;\n",
              "    }\n",
              "\n",
              "    .dataframe tbody tr th {\n",
              "        vertical-align: top;\n",
              "    }\n",
              "\n",
              "    .dataframe thead th {\n",
              "        text-align: right;\n",
              "    }\n",
              "</style>\n",
              "<table border=\"1\" class=\"dataframe\">\n",
              "  <thead>\n",
              "    <tr style=\"text-align: right;\">\n",
              "      <th></th>\n",
              "      <th>antecedents</th>\n",
              "      <th>consequents</th>\n",
              "      <th>antecedent support</th>\n",
              "      <th>consequent support</th>\n",
              "      <th>support</th>\n",
              "      <th>confidence</th>\n",
              "      <th>lift</th>\n",
              "      <th>leverage</th>\n",
              "      <th>conviction</th>\n",
              "      <th>antecedent_len</th>\n",
              "      <th>antecedents_len</th>\n",
              "    </tr>\n",
              "  </thead>\n",
              "  <tbody>\n",
              "    <tr>\n",
              "      <th>29</th>\n",
              "      <td>(ItalCook)</td>\n",
              "      <td>(CookBks)</td>\n",
              "      <td>0.1135</td>\n",
              "      <td>0.431</td>\n",
              "      <td>0.1135</td>\n",
              "      <td>1.0</td>\n",
              "      <td>2.320186</td>\n",
              "      <td>0.064582</td>\n",
              "      <td>inf</td>\n",
              "      <td>1</td>\n",
              "      <td>1</td>\n",
              "    </tr>\n",
              "  </tbody>\n",
              "</table>\n",
              "</div>"
            ],
            "text/plain": [
              "   antecedents consequents  ...  antecedent_len  antecedents_len\n",
              "29  (ItalCook)   (CookBks)  ...               1                1\n",
              "\n",
              "[1 rows x 11 columns]"
            ]
          },
          "metadata": {
            "tags": []
          },
          "execution_count": 73
        }
      ]
    },
    {
      "cell_type": "markdown",
      "metadata": {
        "id": "5At-Npq2mTKQ"
      },
      "source": [
        "# lenght = 2 with support >=0.10"
      ]
    },
    {
      "cell_type": "code",
      "metadata": {
        "colab": {
          "base_uri": "https://localhost:8080/"
        },
        "id": "Dkqb11Hhoozc",
        "outputId": "38742987-0c38-4a63-f57c-1da2cfb7d616"
      },
      "source": [
        "##let's assume we are only interested in itemsets of length 2 that have a support >= 10 .\n",
        "frequent_itemsets[(frequent_itemsets['lenght']==2 )& (frequent_itemsets['support']>=0.1)].shape"
      ],
      "execution_count": 76,
      "outputs": [
        {
          "output_type": "execute_result",
          "data": {
            "text/plain": [
              "(20, 3)"
            ]
          },
          "metadata": {
            "tags": []
          },
          "execution_count": 76
        }
      ]
    },
    {
      "cell_type": "code",
      "metadata": {
        "colab": {
          "base_uri": "https://localhost:8080/",
          "height": 665
        },
        "id": "ZSiaY4wBVrNI",
        "outputId": "fad7380b-8064-4a9c-f187-3b08d8b41163"
      },
      "source": [
        "frequent_itemsets[(frequent_itemsets['lenght']==2 )& (frequent_itemsets['support']>=0.10)]"
      ],
      "execution_count": 74,
      "outputs": [
        {
          "output_type": "execute_result",
          "data": {
            "text/html": [
              "<div>\n",
              "<style scoped>\n",
              "    .dataframe tbody tr th:only-of-type {\n",
              "        vertical-align: middle;\n",
              "    }\n",
              "\n",
              "    .dataframe tbody tr th {\n",
              "        vertical-align: top;\n",
              "    }\n",
              "\n",
              "    .dataframe thead th {\n",
              "        text-align: right;\n",
              "    }\n",
              "</style>\n",
              "<table border=\"1\" class=\"dataframe\">\n",
              "  <thead>\n",
              "    <tr style=\"text-align: right;\">\n",
              "      <th></th>\n",
              "      <th>support</th>\n",
              "      <th>itemsets</th>\n",
              "      <th>lenght</th>\n",
              "    </tr>\n",
              "  </thead>\n",
              "  <tbody>\n",
              "    <tr>\n",
              "      <th>9</th>\n",
              "      <td>0.1650</td>\n",
              "      <td>(ChildBks, YouthBks)</td>\n",
              "      <td>2</td>\n",
              "    </tr>\n",
              "    <tr>\n",
              "      <th>10</th>\n",
              "      <td>0.2560</td>\n",
              "      <td>(ChildBks, CookBks)</td>\n",
              "      <td>2</td>\n",
              "    </tr>\n",
              "    <tr>\n",
              "      <th>11</th>\n",
              "      <td>0.1840</td>\n",
              "      <td>(ChildBks, DoItYBks)</td>\n",
              "      <td>2</td>\n",
              "    </tr>\n",
              "    <tr>\n",
              "      <th>12</th>\n",
              "      <td>0.1515</td>\n",
              "      <td>(ChildBks, RefBks)</td>\n",
              "      <td>2</td>\n",
              "    </tr>\n",
              "    <tr>\n",
              "      <th>13</th>\n",
              "      <td>0.1625</td>\n",
              "      <td>(ChildBks, ArtBks)</td>\n",
              "      <td>2</td>\n",
              "    </tr>\n",
              "    <tr>\n",
              "      <th>14</th>\n",
              "      <td>0.1950</td>\n",
              "      <td>(ChildBks, GeogBks)</td>\n",
              "      <td>2</td>\n",
              "    </tr>\n",
              "    <tr>\n",
              "      <th>15</th>\n",
              "      <td>0.1620</td>\n",
              "      <td>(CookBks, YouthBks)</td>\n",
              "      <td>2</td>\n",
              "    </tr>\n",
              "    <tr>\n",
              "      <th>16</th>\n",
              "      <td>0.1155</td>\n",
              "      <td>(DoItYBks, YouthBks)</td>\n",
              "      <td>2</td>\n",
              "    </tr>\n",
              "    <tr>\n",
              "      <th>17</th>\n",
              "      <td>0.1010</td>\n",
              "      <td>(ArtBks, YouthBks)</td>\n",
              "      <td>2</td>\n",
              "    </tr>\n",
              "    <tr>\n",
              "      <th>18</th>\n",
              "      <td>0.1205</td>\n",
              "      <td>(GeogBks, YouthBks)</td>\n",
              "      <td>2</td>\n",
              "    </tr>\n",
              "    <tr>\n",
              "      <th>19</th>\n",
              "      <td>0.1875</td>\n",
              "      <td>(DoItYBks, CookBks)</td>\n",
              "      <td>2</td>\n",
              "    </tr>\n",
              "    <tr>\n",
              "      <th>20</th>\n",
              "      <td>0.1525</td>\n",
              "      <td>(CookBks, RefBks)</td>\n",
              "      <td>2</td>\n",
              "    </tr>\n",
              "    <tr>\n",
              "      <th>21</th>\n",
              "      <td>0.1670</td>\n",
              "      <td>(ArtBks, CookBks)</td>\n",
              "      <td>2</td>\n",
              "    </tr>\n",
              "    <tr>\n",
              "      <th>22</th>\n",
              "      <td>0.1925</td>\n",
              "      <td>(GeogBks, CookBks)</td>\n",
              "      <td>2</td>\n",
              "    </tr>\n",
              "    <tr>\n",
              "      <th>23</th>\n",
              "      <td>0.1135</td>\n",
              "      <td>(CookBks, ItalCook)</td>\n",
              "      <td>2</td>\n",
              "    </tr>\n",
              "    <tr>\n",
              "      <th>24</th>\n",
              "      <td>0.1055</td>\n",
              "      <td>(DoItYBks, RefBks)</td>\n",
              "      <td>2</td>\n",
              "    </tr>\n",
              "    <tr>\n",
              "      <th>25</th>\n",
              "      <td>0.1235</td>\n",
              "      <td>(ArtBks, DoItYBks)</td>\n",
              "      <td>2</td>\n",
              "    </tr>\n",
              "    <tr>\n",
              "      <th>26</th>\n",
              "      <td>0.1325</td>\n",
              "      <td>(GeogBks, DoItYBks)</td>\n",
              "      <td>2</td>\n",
              "    </tr>\n",
              "    <tr>\n",
              "      <th>27</th>\n",
              "      <td>0.1105</td>\n",
              "      <td>(GeogBks, RefBks)</td>\n",
              "      <td>2</td>\n",
              "    </tr>\n",
              "    <tr>\n",
              "      <th>28</th>\n",
              "      <td>0.1275</td>\n",
              "      <td>(GeogBks, ArtBks)</td>\n",
              "      <td>2</td>\n",
              "    </tr>\n",
              "  </tbody>\n",
              "</table>\n",
              "</div>"
            ],
            "text/plain": [
              "    support              itemsets  lenght\n",
              "9    0.1650  (ChildBks, YouthBks)       2\n",
              "10   0.2560   (ChildBks, CookBks)       2\n",
              "11   0.1840  (ChildBks, DoItYBks)       2\n",
              "12   0.1515    (ChildBks, RefBks)       2\n",
              "13   0.1625    (ChildBks, ArtBks)       2\n",
              "14   0.1950   (ChildBks, GeogBks)       2\n",
              "15   0.1620   (CookBks, YouthBks)       2\n",
              "16   0.1155  (DoItYBks, YouthBks)       2\n",
              "17   0.1010    (ArtBks, YouthBks)       2\n",
              "18   0.1205   (GeogBks, YouthBks)       2\n",
              "19   0.1875   (DoItYBks, CookBks)       2\n",
              "20   0.1525     (CookBks, RefBks)       2\n",
              "21   0.1670     (ArtBks, CookBks)       2\n",
              "22   0.1925    (GeogBks, CookBks)       2\n",
              "23   0.1135   (CookBks, ItalCook)       2\n",
              "24   0.1055    (DoItYBks, RefBks)       2\n",
              "25   0.1235    (ArtBks, DoItYBks)       2\n",
              "26   0.1325   (GeogBks, DoItYBks)       2\n",
              "27   0.1105     (GeogBks, RefBks)       2\n",
              "28   0.1275     (GeogBks, ArtBks)       2"
            ]
          },
          "metadata": {
            "tags": []
          },
          "execution_count": 74
        }
      ]
    },
    {
      "cell_type": "markdown",
      "metadata": {
        "id": "zmCpj2b0nTEF"
      },
      "source": [
        "# antecedent lenght =2"
      ]
    },
    {
      "cell_type": "code",
      "metadata": {
        "colab": {
          "base_uri": "https://localhost:8080/",
          "height": 511
        },
        "id": "oi9RpNOdnXhR",
        "outputId": "cd4790c5-4982-4dff-85d7-2e1660972442"
      },
      "source": [
        "rules[(rules['antecedents_len']==2) & (rules['confidence'] > 0.7) & (rules['lift']>1)]"
      ],
      "execution_count": 75,
      "outputs": [
        {
          "output_type": "execute_result",
          "data": {
            "text/html": [
              "<div>\n",
              "<style scoped>\n",
              "    .dataframe tbody tr th:only-of-type {\n",
              "        vertical-align: middle;\n",
              "    }\n",
              "\n",
              "    .dataframe tbody tr th {\n",
              "        vertical-align: top;\n",
              "    }\n",
              "\n",
              "    .dataframe thead th {\n",
              "        text-align: right;\n",
              "    }\n",
              "</style>\n",
              "<table border=\"1\" class=\"dataframe\">\n",
              "  <thead>\n",
              "    <tr style=\"text-align: right;\">\n",
              "      <th></th>\n",
              "      <th>antecedents</th>\n",
              "      <th>consequents</th>\n",
              "      <th>antecedent support</th>\n",
              "      <th>consequent support</th>\n",
              "      <th>support</th>\n",
              "      <th>confidence</th>\n",
              "      <th>lift</th>\n",
              "      <th>leverage</th>\n",
              "      <th>conviction</th>\n",
              "      <th>antecedent_len</th>\n",
              "      <th>antecedents_len</th>\n",
              "    </tr>\n",
              "  </thead>\n",
              "  <tbody>\n",
              "    <tr>\n",
              "      <th>41</th>\n",
              "      <td>(ChildBks, YouthBks)</td>\n",
              "      <td>(CookBks)</td>\n",
              "      <td>0.1650</td>\n",
              "      <td>0.431</td>\n",
              "      <td>0.1290</td>\n",
              "      <td>0.781818</td>\n",
              "      <td>1.813963</td>\n",
              "      <td>0.057885</td>\n",
              "      <td>2.607917</td>\n",
              "      <td>2</td>\n",
              "      <td>2</td>\n",
              "    </tr>\n",
              "    <tr>\n",
              "      <th>42</th>\n",
              "      <td>(CookBks, YouthBks)</td>\n",
              "      <td>(ChildBks)</td>\n",
              "      <td>0.1620</td>\n",
              "      <td>0.423</td>\n",
              "      <td>0.1290</td>\n",
              "      <td>0.796296</td>\n",
              "      <td>1.882497</td>\n",
              "      <td>0.060474</td>\n",
              "      <td>2.832545</td>\n",
              "      <td>2</td>\n",
              "      <td>2</td>\n",
              "    </tr>\n",
              "    <tr>\n",
              "      <th>46</th>\n",
              "      <td>(ChildBks, DoItYBks)</td>\n",
              "      <td>(CookBks)</td>\n",
              "      <td>0.1840</td>\n",
              "      <td>0.431</td>\n",
              "      <td>0.1460</td>\n",
              "      <td>0.793478</td>\n",
              "      <td>1.841017</td>\n",
              "      <td>0.066696</td>\n",
              "      <td>2.755158</td>\n",
              "      <td>2</td>\n",
              "      <td>2</td>\n",
              "    </tr>\n",
              "    <tr>\n",
              "      <th>48</th>\n",
              "      <td>(DoItYBks, CookBks)</td>\n",
              "      <td>(ChildBks)</td>\n",
              "      <td>0.1875</td>\n",
              "      <td>0.423</td>\n",
              "      <td>0.1460</td>\n",
              "      <td>0.778667</td>\n",
              "      <td>1.840820</td>\n",
              "      <td>0.066687</td>\n",
              "      <td>2.606928</td>\n",
              "      <td>2</td>\n",
              "      <td>2</td>\n",
              "    </tr>\n",
              "    <tr>\n",
              "      <th>53</th>\n",
              "      <td>(ChildBks, RefBks)</td>\n",
              "      <td>(CookBks)</td>\n",
              "      <td>0.1515</td>\n",
              "      <td>0.431</td>\n",
              "      <td>0.1225</td>\n",
              "      <td>0.808581</td>\n",
              "      <td>1.876058</td>\n",
              "      <td>0.057204</td>\n",
              "      <td>2.972534</td>\n",
              "      <td>2</td>\n",
              "      <td>2</td>\n",
              "    </tr>\n",
              "    <tr>\n",
              "      <th>54</th>\n",
              "      <td>(CookBks, RefBks)</td>\n",
              "      <td>(ChildBks)</td>\n",
              "      <td>0.1525</td>\n",
              "      <td>0.423</td>\n",
              "      <td>0.1225</td>\n",
              "      <td>0.803279</td>\n",
              "      <td>1.899004</td>\n",
              "      <td>0.057993</td>\n",
              "      <td>2.933083</td>\n",
              "      <td>2</td>\n",
              "      <td>2</td>\n",
              "    </tr>\n",
              "    <tr>\n",
              "      <th>58</th>\n",
              "      <td>(ChildBks, ArtBks)</td>\n",
              "      <td>(CookBks)</td>\n",
              "      <td>0.1625</td>\n",
              "      <td>0.431</td>\n",
              "      <td>0.1265</td>\n",
              "      <td>0.778462</td>\n",
              "      <td>1.806175</td>\n",
              "      <td>0.056462</td>\n",
              "      <td>2.568403</td>\n",
              "      <td>2</td>\n",
              "      <td>2</td>\n",
              "    </tr>\n",
              "    <tr>\n",
              "      <th>60</th>\n",
              "      <td>(ArtBks, CookBks)</td>\n",
              "      <td>(ChildBks)</td>\n",
              "      <td>0.1670</td>\n",
              "      <td>0.423</td>\n",
              "      <td>0.1265</td>\n",
              "      <td>0.757485</td>\n",
              "      <td>1.790745</td>\n",
              "      <td>0.055859</td>\n",
              "      <td>2.379235</td>\n",
              "      <td>2</td>\n",
              "      <td>2</td>\n",
              "    </tr>\n",
              "    <tr>\n",
              "      <th>64</th>\n",
              "      <td>(ChildBks, GeogBks)</td>\n",
              "      <td>(CookBks)</td>\n",
              "      <td>0.1950</td>\n",
              "      <td>0.431</td>\n",
              "      <td>0.1495</td>\n",
              "      <td>0.766667</td>\n",
              "      <td>1.778809</td>\n",
              "      <td>0.065455</td>\n",
              "      <td>2.438571</td>\n",
              "      <td>2</td>\n",
              "      <td>2</td>\n",
              "    </tr>\n",
              "    <tr>\n",
              "      <th>66</th>\n",
              "      <td>(GeogBks, CookBks)</td>\n",
              "      <td>(ChildBks)</td>\n",
              "      <td>0.1925</td>\n",
              "      <td>0.423</td>\n",
              "      <td>0.1495</td>\n",
              "      <td>0.776623</td>\n",
              "      <td>1.835989</td>\n",
              "      <td>0.068072</td>\n",
              "      <td>2.583081</td>\n",
              "      <td>2</td>\n",
              "      <td>2</td>\n",
              "    </tr>\n",
              "    <tr>\n",
              "      <th>72</th>\n",
              "      <td>(GeogBks, DoItYBks)</td>\n",
              "      <td>(ChildBks)</td>\n",
              "      <td>0.1325</td>\n",
              "      <td>0.423</td>\n",
              "      <td>0.1045</td>\n",
              "      <td>0.788679</td>\n",
              "      <td>1.864490</td>\n",
              "      <td>0.048452</td>\n",
              "      <td>2.730446</td>\n",
              "      <td>2</td>\n",
              "      <td>2</td>\n",
              "    </tr>\n",
              "    <tr>\n",
              "      <th>78</th>\n",
              "      <td>(GeogBks, ArtBks)</td>\n",
              "      <td>(ChildBks)</td>\n",
              "      <td>0.1275</td>\n",
              "      <td>0.423</td>\n",
              "      <td>0.1020</td>\n",
              "      <td>0.800000</td>\n",
              "      <td>1.891253</td>\n",
              "      <td>0.048067</td>\n",
              "      <td>2.885000</td>\n",
              "      <td>2</td>\n",
              "      <td>2</td>\n",
              "    </tr>\n",
              "    <tr>\n",
              "      <th>82</th>\n",
              "      <td>(DoItYBks, ArtBks)</td>\n",
              "      <td>(CookBks)</td>\n",
              "      <td>0.1235</td>\n",
              "      <td>0.431</td>\n",
              "      <td>0.1015</td>\n",
              "      <td>0.821862</td>\n",
              "      <td>1.906873</td>\n",
              "      <td>0.048272</td>\n",
              "      <td>3.194159</td>\n",
              "      <td>2</td>\n",
              "      <td>2</td>\n",
              "    </tr>\n",
              "    <tr>\n",
              "      <th>88</th>\n",
              "      <td>(GeogBks, DoItYBks)</td>\n",
              "      <td>(CookBks)</td>\n",
              "      <td>0.1325</td>\n",
              "      <td>0.431</td>\n",
              "      <td>0.1085</td>\n",
              "      <td>0.818868</td>\n",
              "      <td>1.899926</td>\n",
              "      <td>0.051392</td>\n",
              "      <td>3.141354</td>\n",
              "      <td>2</td>\n",
              "      <td>2</td>\n",
              "    </tr>\n",
              "    <tr>\n",
              "      <th>94</th>\n",
              "      <td>(GeogBks, ArtBks)</td>\n",
              "      <td>(CookBks)</td>\n",
              "      <td>0.1275</td>\n",
              "      <td>0.431</td>\n",
              "      <td>0.1035</td>\n",
              "      <td>0.811765</td>\n",
              "      <td>1.883445</td>\n",
              "      <td>0.048547</td>\n",
              "      <td>3.022812</td>\n",
              "      <td>2</td>\n",
              "      <td>2</td>\n",
              "    </tr>\n",
              "  </tbody>\n",
              "</table>\n",
              "</div>"
            ],
            "text/plain": [
              "             antecedents consequents  ...  antecedent_len  antecedents_len\n",
              "41  (ChildBks, YouthBks)   (CookBks)  ...               2                2\n",
              "42   (CookBks, YouthBks)  (ChildBks)  ...               2                2\n",
              "46  (ChildBks, DoItYBks)   (CookBks)  ...               2                2\n",
              "48   (DoItYBks, CookBks)  (ChildBks)  ...               2                2\n",
              "53    (ChildBks, RefBks)   (CookBks)  ...               2                2\n",
              "54     (CookBks, RefBks)  (ChildBks)  ...               2                2\n",
              "58    (ChildBks, ArtBks)   (CookBks)  ...               2                2\n",
              "60     (ArtBks, CookBks)  (ChildBks)  ...               2                2\n",
              "64   (ChildBks, GeogBks)   (CookBks)  ...               2                2\n",
              "66    (GeogBks, CookBks)  (ChildBks)  ...               2                2\n",
              "72   (GeogBks, DoItYBks)  (ChildBks)  ...               2                2\n",
              "78     (GeogBks, ArtBks)  (ChildBks)  ...               2                2\n",
              "82    (DoItYBks, ArtBks)   (CookBks)  ...               2                2\n",
              "88   (GeogBks, DoItYBks)   (CookBks)  ...               2                2\n",
              "94     (GeogBks, ArtBks)   (CookBks)  ...               2                2\n",
              "\n",
              "[15 rows x 11 columns]"
            ]
          },
          "metadata": {
            "tags": []
          },
          "execution_count": 75
        }
      ]
    },
    {
      "cell_type": "code",
      "metadata": {
        "colab": {
          "base_uri": "https://localhost:8080/",
          "height": 203
        },
        "id": "orObfMWjo4ky",
        "outputId": "dc3933fc-bf84-4172-940b-d7d26328a84d"
      },
      "source": [
        "rules[(rules['antecedents_len']==2) & (rules['confidence'] > 0.8) & (rules['lift']>1.8)]"
      ],
      "execution_count": 78,
      "outputs": [
        {
          "output_type": "execute_result",
          "data": {
            "text/html": [
              "<div>\n",
              "<style scoped>\n",
              "    .dataframe tbody tr th:only-of-type {\n",
              "        vertical-align: middle;\n",
              "    }\n",
              "\n",
              "    .dataframe tbody tr th {\n",
              "        vertical-align: top;\n",
              "    }\n",
              "\n",
              "    .dataframe thead th {\n",
              "        text-align: right;\n",
              "    }\n",
              "</style>\n",
              "<table border=\"1\" class=\"dataframe\">\n",
              "  <thead>\n",
              "    <tr style=\"text-align: right;\">\n",
              "      <th></th>\n",
              "      <th>antecedents</th>\n",
              "      <th>consequents</th>\n",
              "      <th>antecedent support</th>\n",
              "      <th>consequent support</th>\n",
              "      <th>support</th>\n",
              "      <th>confidence</th>\n",
              "      <th>lift</th>\n",
              "      <th>leverage</th>\n",
              "      <th>conviction</th>\n",
              "      <th>antecedent_len</th>\n",
              "      <th>antecedents_len</th>\n",
              "    </tr>\n",
              "  </thead>\n",
              "  <tbody>\n",
              "    <tr>\n",
              "      <th>53</th>\n",
              "      <td>(ChildBks, RefBks)</td>\n",
              "      <td>(CookBks)</td>\n",
              "      <td>0.1515</td>\n",
              "      <td>0.431</td>\n",
              "      <td>0.1225</td>\n",
              "      <td>0.808581</td>\n",
              "      <td>1.876058</td>\n",
              "      <td>0.057204</td>\n",
              "      <td>2.972534</td>\n",
              "      <td>2</td>\n",
              "      <td>2</td>\n",
              "    </tr>\n",
              "    <tr>\n",
              "      <th>54</th>\n",
              "      <td>(CookBks, RefBks)</td>\n",
              "      <td>(ChildBks)</td>\n",
              "      <td>0.1525</td>\n",
              "      <td>0.423</td>\n",
              "      <td>0.1225</td>\n",
              "      <td>0.803279</td>\n",
              "      <td>1.899004</td>\n",
              "      <td>0.057993</td>\n",
              "      <td>2.933083</td>\n",
              "      <td>2</td>\n",
              "      <td>2</td>\n",
              "    </tr>\n",
              "    <tr>\n",
              "      <th>82</th>\n",
              "      <td>(DoItYBks, ArtBks)</td>\n",
              "      <td>(CookBks)</td>\n",
              "      <td>0.1235</td>\n",
              "      <td>0.431</td>\n",
              "      <td>0.1015</td>\n",
              "      <td>0.821862</td>\n",
              "      <td>1.906873</td>\n",
              "      <td>0.048272</td>\n",
              "      <td>3.194159</td>\n",
              "      <td>2</td>\n",
              "      <td>2</td>\n",
              "    </tr>\n",
              "    <tr>\n",
              "      <th>88</th>\n",
              "      <td>(GeogBks, DoItYBks)</td>\n",
              "      <td>(CookBks)</td>\n",
              "      <td>0.1325</td>\n",
              "      <td>0.431</td>\n",
              "      <td>0.1085</td>\n",
              "      <td>0.818868</td>\n",
              "      <td>1.899926</td>\n",
              "      <td>0.051392</td>\n",
              "      <td>3.141354</td>\n",
              "      <td>2</td>\n",
              "      <td>2</td>\n",
              "    </tr>\n",
              "    <tr>\n",
              "      <th>94</th>\n",
              "      <td>(GeogBks, ArtBks)</td>\n",
              "      <td>(CookBks)</td>\n",
              "      <td>0.1275</td>\n",
              "      <td>0.431</td>\n",
              "      <td>0.1035</td>\n",
              "      <td>0.811765</td>\n",
              "      <td>1.883445</td>\n",
              "      <td>0.048547</td>\n",
              "      <td>3.022812</td>\n",
              "      <td>2</td>\n",
              "      <td>2</td>\n",
              "    </tr>\n",
              "  </tbody>\n",
              "</table>\n",
              "</div>"
            ],
            "text/plain": [
              "            antecedents consequents  ...  antecedent_len  antecedents_len\n",
              "53   (ChildBks, RefBks)   (CookBks)  ...               2                2\n",
              "54    (CookBks, RefBks)  (ChildBks)  ...               2                2\n",
              "82   (DoItYBks, ArtBks)   (CookBks)  ...               2                2\n",
              "88  (GeogBks, DoItYBks)   (CookBks)  ...               2                2\n",
              "94    (GeogBks, ArtBks)   (CookBks)  ...               2                2\n",
              "\n",
              "[5 rows x 11 columns]"
            ]
          },
          "metadata": {
            "tags": []
          },
          "execution_count": 78
        }
      ]
    },
    {
      "cell_type": "markdown",
      "metadata": {
        "id": "aPJHwVNmpfOX"
      },
      "source": [
        "#lenght = 3 with support >=0.10"
      ]
    },
    {
      "cell_type": "code",
      "metadata": {
        "colab": {
          "base_uri": "https://localhost:8080/"
        },
        "id": "pCO43BFgpd4x",
        "outputId": "8c7f7f3b-4f6c-481c-9f4d-9513f799f2e1"
      },
      "source": [
        "##let's assume we are only interested in itemsets of length 3 that have a support >= 10 .\n",
        "frequent_itemsets[(frequent_itemsets['lenght']==3 )& (frequent_itemsets['support']>=0.1)].shape"
      ],
      "execution_count": 79,
      "outputs": [
        {
          "output_type": "execute_result",
          "data": {
            "text/plain": [
              "(10, 3)"
            ]
          },
          "metadata": {
            "tags": []
          },
          "execution_count": 79
        }
      ]
    },
    {
      "cell_type": "code",
      "metadata": {
        "colab": {
          "base_uri": "https://localhost:8080/",
          "height": 357
        },
        "id": "nFMgMAa1pUyS",
        "outputId": "f21b2a93-77fb-41db-e6c7-05bcabc4bdac"
      },
      "source": [
        "\n",
        "frequent_itemsets[(frequent_itemsets['lenght']==3 )& (frequent_itemsets['support']>=0.1)]"
      ],
      "execution_count": 81,
      "outputs": [
        {
          "output_type": "execute_result",
          "data": {
            "text/html": [
              "<div>\n",
              "<style scoped>\n",
              "    .dataframe tbody tr th:only-of-type {\n",
              "        vertical-align: middle;\n",
              "    }\n",
              "\n",
              "    .dataframe tbody tr th {\n",
              "        vertical-align: top;\n",
              "    }\n",
              "\n",
              "    .dataframe thead th {\n",
              "        text-align: right;\n",
              "    }\n",
              "</style>\n",
              "<table border=\"1\" class=\"dataframe\">\n",
              "  <thead>\n",
              "    <tr style=\"text-align: right;\">\n",
              "      <th></th>\n",
              "      <th>support</th>\n",
              "      <th>itemsets</th>\n",
              "      <th>lenght</th>\n",
              "    </tr>\n",
              "  </thead>\n",
              "  <tbody>\n",
              "    <tr>\n",
              "      <th>29</th>\n",
              "      <td>0.1290</td>\n",
              "      <td>(ChildBks, CookBks, YouthBks)</td>\n",
              "      <td>3</td>\n",
              "    </tr>\n",
              "    <tr>\n",
              "      <th>30</th>\n",
              "      <td>0.1460</td>\n",
              "      <td>(ChildBks, DoItYBks, CookBks)</td>\n",
              "      <td>3</td>\n",
              "    </tr>\n",
              "    <tr>\n",
              "      <th>31</th>\n",
              "      <td>0.1225</td>\n",
              "      <td>(ChildBks, CookBks, RefBks)</td>\n",
              "      <td>3</td>\n",
              "    </tr>\n",
              "    <tr>\n",
              "      <th>32</th>\n",
              "      <td>0.1265</td>\n",
              "      <td>(ChildBks, ArtBks, CookBks)</td>\n",
              "      <td>3</td>\n",
              "    </tr>\n",
              "    <tr>\n",
              "      <th>33</th>\n",
              "      <td>0.1495</td>\n",
              "      <td>(ChildBks, GeogBks, CookBks)</td>\n",
              "      <td>3</td>\n",
              "    </tr>\n",
              "    <tr>\n",
              "      <th>34</th>\n",
              "      <td>0.1045</td>\n",
              "      <td>(ChildBks, DoItYBks, GeogBks)</td>\n",
              "      <td>3</td>\n",
              "    </tr>\n",
              "    <tr>\n",
              "      <th>35</th>\n",
              "      <td>0.1020</td>\n",
              "      <td>(ChildBks, ArtBks, GeogBks)</td>\n",
              "      <td>3</td>\n",
              "    </tr>\n",
              "    <tr>\n",
              "      <th>36</th>\n",
              "      <td>0.1015</td>\n",
              "      <td>(ArtBks, DoItYBks, CookBks)</td>\n",
              "      <td>3</td>\n",
              "    </tr>\n",
              "    <tr>\n",
              "      <th>37</th>\n",
              "      <td>0.1085</td>\n",
              "      <td>(GeogBks, DoItYBks, CookBks)</td>\n",
              "      <td>3</td>\n",
              "    </tr>\n",
              "    <tr>\n",
              "      <th>38</th>\n",
              "      <td>0.1035</td>\n",
              "      <td>(GeogBks, ArtBks, CookBks)</td>\n",
              "      <td>3</td>\n",
              "    </tr>\n",
              "  </tbody>\n",
              "</table>\n",
              "</div>"
            ],
            "text/plain": [
              "    support                       itemsets  lenght\n",
              "29   0.1290  (ChildBks, CookBks, YouthBks)       3\n",
              "30   0.1460  (ChildBks, DoItYBks, CookBks)       3\n",
              "31   0.1225    (ChildBks, CookBks, RefBks)       3\n",
              "32   0.1265    (ChildBks, ArtBks, CookBks)       3\n",
              "33   0.1495   (ChildBks, GeogBks, CookBks)       3\n",
              "34   0.1045  (ChildBks, DoItYBks, GeogBks)       3\n",
              "35   0.1020    (ChildBks, ArtBks, GeogBks)       3\n",
              "36   0.1015    (ArtBks, DoItYBks, CookBks)       3\n",
              "37   0.1085   (GeogBks, DoItYBks, CookBks)       3\n",
              "38   0.1035     (GeogBks, ArtBks, CookBks)       3"
            ]
          },
          "metadata": {
            "tags": []
          },
          "execution_count": 81
        }
      ]
    },
    {
      "cell_type": "code",
      "metadata": {
        "colab": {
          "base_uri": "https://localhost:8080/",
          "height": 417
        },
        "id": "yIdavnMAp48E",
        "outputId": "1fe498b2-3d07-446d-83e3-9ecbd4844b19"
      },
      "source": [
        "rules[['antecedent_len']]==3\n",
        "##As per this comparission no antecedent len is equal to 3. Therefore no rules can be formed after this"
      ],
      "execution_count": 90,
      "outputs": [
        {
          "output_type": "execute_result",
          "data": {
            "text/html": [
              "<div>\n",
              "<style scoped>\n",
              "    .dataframe tbody tr th:only-of-type {\n",
              "        vertical-align: middle;\n",
              "    }\n",
              "\n",
              "    .dataframe tbody tr th {\n",
              "        vertical-align: top;\n",
              "    }\n",
              "\n",
              "    .dataframe thead th {\n",
              "        text-align: right;\n",
              "    }\n",
              "</style>\n",
              "<table border=\"1\" class=\"dataframe\">\n",
              "  <thead>\n",
              "    <tr style=\"text-align: right;\">\n",
              "      <th></th>\n",
              "      <th>antecedent_len</th>\n",
              "    </tr>\n",
              "  </thead>\n",
              "  <tbody>\n",
              "    <tr>\n",
              "      <th>0</th>\n",
              "      <td>False</td>\n",
              "    </tr>\n",
              "    <tr>\n",
              "      <th>1</th>\n",
              "      <td>False</td>\n",
              "    </tr>\n",
              "    <tr>\n",
              "      <th>2</th>\n",
              "      <td>False</td>\n",
              "    </tr>\n",
              "    <tr>\n",
              "      <th>3</th>\n",
              "      <td>False</td>\n",
              "    </tr>\n",
              "    <tr>\n",
              "      <th>4</th>\n",
              "      <td>False</td>\n",
              "    </tr>\n",
              "    <tr>\n",
              "      <th>...</th>\n",
              "      <td>...</td>\n",
              "    </tr>\n",
              "    <tr>\n",
              "      <th>95</th>\n",
              "      <td>False</td>\n",
              "    </tr>\n",
              "    <tr>\n",
              "      <th>96</th>\n",
              "      <td>False</td>\n",
              "    </tr>\n",
              "    <tr>\n",
              "      <th>97</th>\n",
              "      <td>False</td>\n",
              "    </tr>\n",
              "    <tr>\n",
              "      <th>98</th>\n",
              "      <td>False</td>\n",
              "    </tr>\n",
              "    <tr>\n",
              "      <th>99</th>\n",
              "      <td>False</td>\n",
              "    </tr>\n",
              "  </tbody>\n",
              "</table>\n",
              "<p>100 rows × 1 columns</p>\n",
              "</div>"
            ],
            "text/plain": [
              "    antecedent_len\n",
              "0            False\n",
              "1            False\n",
              "2            False\n",
              "3            False\n",
              "4            False\n",
              "..             ...\n",
              "95           False\n",
              "96           False\n",
              "97           False\n",
              "98           False\n",
              "99           False\n",
              "\n",
              "[100 rows x 1 columns]"
            ]
          },
          "metadata": {
            "tags": []
          },
          "execution_count": 90
        }
      ]
    },
    {
      "cell_type": "markdown",
      "metadata": {
        "id": "GQg9FufzFnYP"
      },
      "source": [
        "# A leverage value of 0 indicates independence. Range will be [-1 1]\n",
        "## A high conviction value means that the consequent is highly depending on the antecedent and range [0 inf]"
      ]
    },
    {
      "cell_type": "markdown",
      "metadata": {
        "id": "mTuNAAsWr2EQ"
      },
      "source": [
        "# Forming rules for entire dataset"
      ]
    },
    {
      "cell_type": "code",
      "metadata": {
        "colab": {
          "base_uri": "https://localhost:8080/",
          "height": 417
        },
        "id": "RKaPv8l5sEy4",
        "outputId": "7079ed99-81fb-4af6-86cf-855b9ad9ad9e"
      },
      "source": [
        "rules = association_rules(frequent_itemsets, metric=\"lift\", min_threshold=0.7)\n",
        "rules"
      ],
      "execution_count": 94,
      "outputs": [
        {
          "output_type": "execute_result",
          "data": {
            "text/html": [
              "<div>\n",
              "<style scoped>\n",
              "    .dataframe tbody tr th:only-of-type {\n",
              "        vertical-align: middle;\n",
              "    }\n",
              "\n",
              "    .dataframe tbody tr th {\n",
              "        vertical-align: top;\n",
              "    }\n",
              "\n",
              "    .dataframe thead th {\n",
              "        text-align: right;\n",
              "    }\n",
              "</style>\n",
              "<table border=\"1\" class=\"dataframe\">\n",
              "  <thead>\n",
              "    <tr style=\"text-align: right;\">\n",
              "      <th></th>\n",
              "      <th>antecedents</th>\n",
              "      <th>consequents</th>\n",
              "      <th>antecedent support</th>\n",
              "      <th>consequent support</th>\n",
              "      <th>support</th>\n",
              "      <th>confidence</th>\n",
              "      <th>lift</th>\n",
              "      <th>leverage</th>\n",
              "      <th>conviction</th>\n",
              "    </tr>\n",
              "  </thead>\n",
              "  <tbody>\n",
              "    <tr>\n",
              "      <th>0</th>\n",
              "      <td>(ChildBks)</td>\n",
              "      <td>(YouthBks)</td>\n",
              "      <td>0.4230</td>\n",
              "      <td>0.2475</td>\n",
              "      <td>0.1650</td>\n",
              "      <td>0.390071</td>\n",
              "      <td>1.576044</td>\n",
              "      <td>0.060308</td>\n",
              "      <td>1.233750</td>\n",
              "    </tr>\n",
              "    <tr>\n",
              "      <th>1</th>\n",
              "      <td>(YouthBks)</td>\n",
              "      <td>(ChildBks)</td>\n",
              "      <td>0.2475</td>\n",
              "      <td>0.4230</td>\n",
              "      <td>0.1650</td>\n",
              "      <td>0.666667</td>\n",
              "      <td>1.576044</td>\n",
              "      <td>0.060308</td>\n",
              "      <td>1.731000</td>\n",
              "    </tr>\n",
              "    <tr>\n",
              "      <th>2</th>\n",
              "      <td>(ChildBks)</td>\n",
              "      <td>(CookBks)</td>\n",
              "      <td>0.4230</td>\n",
              "      <td>0.4310</td>\n",
              "      <td>0.2560</td>\n",
              "      <td>0.605201</td>\n",
              "      <td>1.404179</td>\n",
              "      <td>0.073687</td>\n",
              "      <td>1.441240</td>\n",
              "    </tr>\n",
              "    <tr>\n",
              "      <th>3</th>\n",
              "      <td>(CookBks)</td>\n",
              "      <td>(ChildBks)</td>\n",
              "      <td>0.4310</td>\n",
              "      <td>0.4230</td>\n",
              "      <td>0.2560</td>\n",
              "      <td>0.593968</td>\n",
              "      <td>1.404179</td>\n",
              "      <td>0.073687</td>\n",
              "      <td>1.421069</td>\n",
              "    </tr>\n",
              "    <tr>\n",
              "      <th>4</th>\n",
              "      <td>(ChildBks)</td>\n",
              "      <td>(DoItYBks)</td>\n",
              "      <td>0.4230</td>\n",
              "      <td>0.2820</td>\n",
              "      <td>0.1840</td>\n",
              "      <td>0.434988</td>\n",
              "      <td>1.542511</td>\n",
              "      <td>0.064714</td>\n",
              "      <td>1.270770</td>\n",
              "    </tr>\n",
              "    <tr>\n",
              "      <th>...</th>\n",
              "      <td>...</td>\n",
              "      <td>...</td>\n",
              "      <td>...</td>\n",
              "      <td>...</td>\n",
              "      <td>...</td>\n",
              "      <td>...</td>\n",
              "      <td>...</td>\n",
              "      <td>...</td>\n",
              "      <td>...</td>\n",
              "    </tr>\n",
              "    <tr>\n",
              "      <th>95</th>\n",
              "      <td>(GeogBks, CookBks)</td>\n",
              "      <td>(ArtBks)</td>\n",
              "      <td>0.1925</td>\n",
              "      <td>0.2410</td>\n",
              "      <td>0.1035</td>\n",
              "      <td>0.537662</td>\n",
              "      <td>2.230964</td>\n",
              "      <td>0.057107</td>\n",
              "      <td>1.641657</td>\n",
              "    </tr>\n",
              "    <tr>\n",
              "      <th>96</th>\n",
              "      <td>(ArtBks, CookBks)</td>\n",
              "      <td>(GeogBks)</td>\n",
              "      <td>0.1670</td>\n",
              "      <td>0.2760</td>\n",
              "      <td>0.1035</td>\n",
              "      <td>0.619760</td>\n",
              "      <td>2.245509</td>\n",
              "      <td>0.057408</td>\n",
              "      <td>1.904063</td>\n",
              "    </tr>\n",
              "    <tr>\n",
              "      <th>97</th>\n",
              "      <td>(GeogBks)</td>\n",
              "      <td>(ArtBks, CookBks)</td>\n",
              "      <td>0.2760</td>\n",
              "      <td>0.1670</td>\n",
              "      <td>0.1035</td>\n",
              "      <td>0.375000</td>\n",
              "      <td>2.245509</td>\n",
              "      <td>0.057408</td>\n",
              "      <td>1.332800</td>\n",
              "    </tr>\n",
              "    <tr>\n",
              "      <th>98</th>\n",
              "      <td>(ArtBks)</td>\n",
              "      <td>(GeogBks, CookBks)</td>\n",
              "      <td>0.2410</td>\n",
              "      <td>0.1925</td>\n",
              "      <td>0.1035</td>\n",
              "      <td>0.429461</td>\n",
              "      <td>2.230964</td>\n",
              "      <td>0.057107</td>\n",
              "      <td>1.415327</td>\n",
              "    </tr>\n",
              "    <tr>\n",
              "      <th>99</th>\n",
              "      <td>(CookBks)</td>\n",
              "      <td>(GeogBks, ArtBks)</td>\n",
              "      <td>0.4310</td>\n",
              "      <td>0.1275</td>\n",
              "      <td>0.1035</td>\n",
              "      <td>0.240139</td>\n",
              "      <td>1.883445</td>\n",
              "      <td>0.048547</td>\n",
              "      <td>1.148237</td>\n",
              "    </tr>\n",
              "  </tbody>\n",
              "</table>\n",
              "<p>100 rows × 9 columns</p>\n",
              "</div>"
            ],
            "text/plain": [
              "           antecedents         consequents  ...  leverage  conviction\n",
              "0           (ChildBks)          (YouthBks)  ...  0.060308    1.233750\n",
              "1           (YouthBks)          (ChildBks)  ...  0.060308    1.731000\n",
              "2           (ChildBks)           (CookBks)  ...  0.073687    1.441240\n",
              "3            (CookBks)          (ChildBks)  ...  0.073687    1.421069\n",
              "4           (ChildBks)          (DoItYBks)  ...  0.064714    1.270770\n",
              "..                 ...                 ...  ...       ...         ...\n",
              "95  (GeogBks, CookBks)            (ArtBks)  ...  0.057107    1.641657\n",
              "96   (ArtBks, CookBks)           (GeogBks)  ...  0.057408    1.904063\n",
              "97           (GeogBks)   (ArtBks, CookBks)  ...  0.057408    1.332800\n",
              "98            (ArtBks)  (GeogBks, CookBks)  ...  0.057107    1.415327\n",
              "99           (CookBks)   (GeogBks, ArtBks)  ...  0.048547    1.148237\n",
              "\n",
              "[100 rows x 9 columns]"
            ]
          },
          "metadata": {
            "tags": []
          },
          "execution_count": 94
        }
      ]
    },
    {
      "cell_type": "code",
      "metadata": {
        "colab": {
          "base_uri": "https://localhost:8080/",
          "height": 172
        },
        "id": "c9QR-TK7sfJX",
        "outputId": "febcbfb5-e696-4210-f59d-a0f9178f12f1"
      },
      "source": [
        "# Here we are checking Lift Ratio > 1  and is a good influential rule in selecting the associated transactions\n",
        "Df= rules[(rules['lift']>=2) & (rules['support']>=0.1) & (rules['confidence']>0.6)]\n",
        "Df"
      ],
      "execution_count": 106,
      "outputs": [
        {
          "output_type": "execute_result",
          "data": {
            "text/html": [
              "<div>\n",
              "<style scoped>\n",
              "    .dataframe tbody tr th:only-of-type {\n",
              "        vertical-align: middle;\n",
              "    }\n",
              "\n",
              "    .dataframe tbody tr th {\n",
              "        vertical-align: top;\n",
              "    }\n",
              "\n",
              "    .dataframe thead th {\n",
              "        text-align: right;\n",
              "    }\n",
              "</style>\n",
              "<table border=\"1\" class=\"dataframe\">\n",
              "  <thead>\n",
              "    <tr style=\"text-align: right;\">\n",
              "      <th></th>\n",
              "      <th>antecedents</th>\n",
              "      <th>consequents</th>\n",
              "      <th>antecedent support</th>\n",
              "      <th>consequent support</th>\n",
              "      <th>support</th>\n",
              "      <th>confidence</th>\n",
              "      <th>lift</th>\n",
              "      <th>leverage</th>\n",
              "      <th>conviction</th>\n",
              "    </tr>\n",
              "  </thead>\n",
              "  <tbody>\n",
              "    <tr>\n",
              "      <th>29</th>\n",
              "      <td>(ItalCook)</td>\n",
              "      <td>(CookBks)</td>\n",
              "      <td>0.1135</td>\n",
              "      <td>0.431</td>\n",
              "      <td>0.1135</td>\n",
              "      <td>1.000000</td>\n",
              "      <td>2.320186</td>\n",
              "      <td>0.064582</td>\n",
              "      <td>inf</td>\n",
              "    </tr>\n",
              "    <tr>\n",
              "      <th>76</th>\n",
              "      <td>(ChildBks, ArtBks)</td>\n",
              "      <td>(GeogBks)</td>\n",
              "      <td>0.1625</td>\n",
              "      <td>0.276</td>\n",
              "      <td>0.1020</td>\n",
              "      <td>0.627692</td>\n",
              "      <td>2.274247</td>\n",
              "      <td>0.057150</td>\n",
              "      <td>1.944628</td>\n",
              "    </tr>\n",
              "    <tr>\n",
              "      <th>83</th>\n",
              "      <td>(ArtBks, CookBks)</td>\n",
              "      <td>(DoItYBks)</td>\n",
              "      <td>0.1670</td>\n",
              "      <td>0.282</td>\n",
              "      <td>0.1015</td>\n",
              "      <td>0.607784</td>\n",
              "      <td>2.155264</td>\n",
              "      <td>0.054406</td>\n",
              "      <td>1.830626</td>\n",
              "    </tr>\n",
              "    <tr>\n",
              "      <th>96</th>\n",
              "      <td>(ArtBks, CookBks)</td>\n",
              "      <td>(GeogBks)</td>\n",
              "      <td>0.1670</td>\n",
              "      <td>0.276</td>\n",
              "      <td>0.1035</td>\n",
              "      <td>0.619760</td>\n",
              "      <td>2.245509</td>\n",
              "      <td>0.057408</td>\n",
              "      <td>1.904063</td>\n",
              "    </tr>\n",
              "  </tbody>\n",
              "</table>\n",
              "</div>"
            ],
            "text/plain": [
              "           antecedents consequents  ...  leverage  conviction\n",
              "29          (ItalCook)   (CookBks)  ...  0.064582         inf\n",
              "76  (ChildBks, ArtBks)   (GeogBks)  ...  0.057150    1.944628\n",
              "83   (ArtBks, CookBks)  (DoItYBks)  ...  0.054406    1.830626\n",
              "96   (ArtBks, CookBks)   (GeogBks)  ...  0.057408    1.904063\n",
              "\n",
              "[4 rows x 9 columns]"
            ]
          },
          "metadata": {
            "tags": []
          },
          "execution_count": 106
        }
      ]
    },
    {
      "cell_type": "code",
      "metadata": {
        "ExecuteTime": {
          "end_time": "2021-07-26T10:17:14.917898Z",
          "start_time": "2021-07-26T10:17:14.658531Z"
        },
        "colab": {
          "base_uri": "https://localhost:8080/",
          "height": 172
        },
        "id": "eMtGKNJIFnYP",
        "outputId": "d00502f3-d7bc-4352-fb75-5d263169857a"
      },
      "source": [
        "Df.sort_values('lift',ascending = False)"
      ],
      "execution_count": 108,
      "outputs": [
        {
          "output_type": "execute_result",
          "data": {
            "text/html": [
              "<div>\n",
              "<style scoped>\n",
              "    .dataframe tbody tr th:only-of-type {\n",
              "        vertical-align: middle;\n",
              "    }\n",
              "\n",
              "    .dataframe tbody tr th {\n",
              "        vertical-align: top;\n",
              "    }\n",
              "\n",
              "    .dataframe thead th {\n",
              "        text-align: right;\n",
              "    }\n",
              "</style>\n",
              "<table border=\"1\" class=\"dataframe\">\n",
              "  <thead>\n",
              "    <tr style=\"text-align: right;\">\n",
              "      <th></th>\n",
              "      <th>antecedents</th>\n",
              "      <th>consequents</th>\n",
              "      <th>antecedent support</th>\n",
              "      <th>consequent support</th>\n",
              "      <th>support</th>\n",
              "      <th>confidence</th>\n",
              "      <th>lift</th>\n",
              "      <th>leverage</th>\n",
              "      <th>conviction</th>\n",
              "    </tr>\n",
              "  </thead>\n",
              "  <tbody>\n",
              "    <tr>\n",
              "      <th>29</th>\n",
              "      <td>(ItalCook)</td>\n",
              "      <td>(CookBks)</td>\n",
              "      <td>0.1135</td>\n",
              "      <td>0.431</td>\n",
              "      <td>0.1135</td>\n",
              "      <td>1.000000</td>\n",
              "      <td>2.320186</td>\n",
              "      <td>0.064582</td>\n",
              "      <td>inf</td>\n",
              "    </tr>\n",
              "    <tr>\n",
              "      <th>76</th>\n",
              "      <td>(ChildBks, ArtBks)</td>\n",
              "      <td>(GeogBks)</td>\n",
              "      <td>0.1625</td>\n",
              "      <td>0.276</td>\n",
              "      <td>0.1020</td>\n",
              "      <td>0.627692</td>\n",
              "      <td>2.274247</td>\n",
              "      <td>0.057150</td>\n",
              "      <td>1.944628</td>\n",
              "    </tr>\n",
              "    <tr>\n",
              "      <th>96</th>\n",
              "      <td>(ArtBks, CookBks)</td>\n",
              "      <td>(GeogBks)</td>\n",
              "      <td>0.1670</td>\n",
              "      <td>0.276</td>\n",
              "      <td>0.1035</td>\n",
              "      <td>0.619760</td>\n",
              "      <td>2.245509</td>\n",
              "      <td>0.057408</td>\n",
              "      <td>1.904063</td>\n",
              "    </tr>\n",
              "    <tr>\n",
              "      <th>83</th>\n",
              "      <td>(ArtBks, CookBks)</td>\n",
              "      <td>(DoItYBks)</td>\n",
              "      <td>0.1670</td>\n",
              "      <td>0.282</td>\n",
              "      <td>0.1015</td>\n",
              "      <td>0.607784</td>\n",
              "      <td>2.155264</td>\n",
              "      <td>0.054406</td>\n",
              "      <td>1.830626</td>\n",
              "    </tr>\n",
              "  </tbody>\n",
              "</table>\n",
              "</div>"
            ],
            "text/plain": [
              "           antecedents consequents  ...  leverage  conviction\n",
              "29          (ItalCook)   (CookBks)  ...  0.064582         inf\n",
              "76  (ChildBks, ArtBks)   (GeogBks)  ...  0.057150    1.944628\n",
              "96   (ArtBks, CookBks)   (GeogBks)  ...  0.057408    1.904063\n",
              "83   (ArtBks, CookBks)  (DoItYBks)  ...  0.054406    1.830626\n",
              "\n",
              "[4 rows x 9 columns]"
            ]
          },
          "metadata": {
            "tags": []
          },
          "execution_count": 108
        }
      ]
    },
    {
      "cell_type": "code",
      "metadata": {
        "ExecuteTime": {
          "end_time": "2021-07-26T10:17:45.028952Z",
          "start_time": "2021-07-26T10:17:42.979104Z"
        },
        "id": "n2XYOAQsFnYR"
      },
      "source": [
        "##Visualisation of above data analysis of books association rules \n",
        "import matplotlib.pyplot as plt\n",
        "%matplotlib inline"
      ],
      "execution_count": 109,
      "outputs": []
    },
    {
      "cell_type": "code",
      "metadata": {
        "colab": {
          "base_uri": "https://localhost:8080/",
          "height": 282
        },
        "id": "d_UX51hpyg0K",
        "outputId": "cfb59f2a-6c48-44e9-ee0e-29d36a9d1562"
      },
      "source": [
        "rules[['support', 'confidence','lift' ]].plot()"
      ],
      "execution_count": 110,
      "outputs": [
        {
          "output_type": "execute_result",
          "data": {
            "text/plain": [
              "<matplotlib.axes._subplots.AxesSubplot at 0x7f07dff36490>"
            ]
          },
          "metadata": {
            "tags": []
          },
          "execution_count": 110
        },
        {
          "output_type": "display_data",
          "data": {
            "image/png": "[encoded data removed]",
            "text/plain": [
              "<Figure size 432x288 with 1 Axes>"
            ]
          },
          "metadata": {
            "tags": [],
            "needs_background": "light"
          }
        }
      ]
    },
    {
      "cell_type": "code",
      "metadata": {
        "colab": {
          "base_uri": "https://localhost:8080/",
          "height": 282
        },
        "id": "S0saZXlgy-Mi",
        "outputId": "ef67e07a-2538-4748-9c46-57a3cc09d770"
      },
      "source": [
        "Df[['support', 'confidence','lift' ]].plot()"
      ],
      "execution_count": 112,
      "outputs": [
        {
          "output_type": "execute_result",
          "data": {
            "text/plain": [
              "<matplotlib.axes._subplots.AxesSubplot at 0x7f07dfe93b90>"
            ]
          },
          "metadata": {
            "tags": []
          },
          "execution_count": 112
        },
        {
          "output_type": "display_data",
          "data": {
            "image/png": "[encoded data removed]",
            "text/plain": [
              "<Figure size 432x288 with 1 Axes>"
            ]
          },
          "metadata": {
            "tags": [],
            "needs_background": "light"
          }
        }
      ]
    },
    {
      "cell_type": "code",
      "metadata": {
        "ExecuteTime": {
          "end_time": "2021-07-26T10:17:46.903722Z",
          "start_time": "2021-07-26T10:17:45.067138Z"
        },
        "id": "0kg3EcDBFnYR",
        "outputId": "05f7d4d1-7c0d-4003-a285-0b8079463b6e"
      },
      "source": [
        "plt.scatter(rules['support'],rules['confidence'])\n",
        "plt.xlabel('support')\n",
        "plt.ylabel('confidence')\n",
        "plt.title('Scatter Plot')\n",
        "plt.suptitle('Book_Data Association Rules Comparison', size=15, y=1.03)\n",
        "\n",
        "plt.show()"
      ],
      "execution_count": null,
      "outputs": [
        {
          "output_type": "display_data",
          "data": {
            "image/png": "[encoded data removed]",
            "text/plain": [
              "<Figure size 432x288 with 1 Axes>"
            ]
          },
          "metadata": {
            "tags": [],
            "needs_background": "light"
          }
        }
      ]
    },
    {
      "cell_type": "code",
      "metadata": {
        "ExecuteTime": {
          "end_time": "2021-07-26T10:17:47.596299Z",
          "start_time": "2021-07-26T10:17:46.905369Z"
        },
        "id": "ZiqHEMhKFnYS",
        "outputId": "29d8477a-38aa-410d-d254-3c67d4427ee8"
      },
      "source": [
        "plt.hist(rules['confidence'])"
      ],
      "execution_count": null,
      "outputs": [
        {
          "output_type": "execute_result",
          "data": {
            "text/plain": [
              "(array([12., 16., 16., 17., 11.,  8.,  6., 13.,  0.,  1.]),\n",
              " array([0.23549884, 0.31194896, 0.38839907, 0.46484919, 0.5412993 ,\n",
              "        0.61774942, 0.69419954, 0.77064965, 0.84709977, 0.92354988,\n",
              "        1.        ]),\n",
              " <BarContainer object of 10 artists>)"
            ]
          },
          "metadata": {
            "tags": []
          },
          "execution_count": 143
        },
        {
          "output_type": "display_data",
          "data": {
            "image/png": "[encoded data removed]",
            "text/plain": [
              "<Figure size 432x288 with 1 Axes>"
            ]
          },
          "metadata": {
            "tags": [],
            "needs_background": "light"
          }
        }
      ]
    },
    {
      "cell_type": "code",
      "metadata": {
        "colab": {
          "base_uri": "https://localhost:8080/",
          "height": 349
        },
        "id": "h4lgmoEzzwku",
        "outputId": "287c1646-0773-4665-c513-f1a1a36f2a89"
      },
      "source": [
        "plt.hist(Df['confidence'])"
      ],
      "execution_count": 113,
      "outputs": [
        {
          "output_type": "execute_result",
          "data": {
            "text/plain": [
              "(array([3., 0., 0., 0., 0., 0., 0., 0., 0., 1.]),\n",
              " array([0.60778443, 0.64700599, 0.68622754, 0.7254491 , 0.76467066,\n",
              "        0.80389222, 0.84311377, 0.88233533, 0.92155689, 0.96077844,\n",
              "        1.        ]),\n",
              " <a list of 10 Patch objects>)"
            ]
          },
          "metadata": {
            "tags": []
          },
          "execution_count": 113
        },
        {
          "output_type": "display_data",
          "data": {
            "image/png": "[encoded data removed]",
            "text/plain": [
              "<Figure size 432x288 with 1 Axes>"
            ]
          },
          "metadata": {
            "tags": [],
            "needs_background": "light"
          }
        }
      ]
    },
    {
      "cell_type": "code",
      "metadata": {
        "ExecuteTime": {
          "end_time": "2021-07-26T10:18:01.087029Z",
          "start_time": "2021-07-26T10:17:55.055968Z"
        },
        "id": "-a_DUzdEFnYS",
        "outputId": "6231cc55-1639-4794-9321-df620d77dd6d"
      },
      "source": [
        "plt.hist(rules['confidence'],bins=20,facecolor =\"peru\",edgecolor =\"black\")"
      ],
      "execution_count": null,
      "outputs": [
        {
          "output_type": "execute_result",
          "data": {
            "text/plain": [
              "(array([ 6.,  6.,  3., 13.,  8.,  8.,  7., 10.,  7.,  4.,  4.,  4.,  4.,\n",
              "         2., 10.,  3.,  0.,  0.,  0.,  1.]),\n",
              " array([0.23549884, 0.2737239 , 0.31194896, 0.35017401, 0.38839907,\n",
              "        0.42662413, 0.46484919, 0.50307425, 0.5412993 , 0.57952436,\n",
              "        0.61774942, 0.65597448, 0.69419954, 0.73242459, 0.77064965,\n",
              "        0.80887471, 0.84709977, 0.88532483, 0.92354988, 0.96177494,\n",
              "        1.        ]),\n",
              " <BarContainer object of 20 artists>)"
            ]
          },
          "metadata": {
            "tags": []
          },
          "execution_count": 144
        },
        {
          "output_type": "display_data",
          "data": {
            "image/png": "[encoded data removed]",
            "text/plain": [
              "<Figure size 432x288 with 1 Axes>"
            ]
          },
          "metadata": {
            "tags": [],
            "needs_background": "light"
          }
        }
      ]
    },
    {
      "cell_type": "code",
      "metadata": {
        "colab": {
          "base_uri": "https://localhost:8080/",
          "height": 399
        },
        "id": "4GW1m1ZHz3hn",
        "outputId": "5f2d952c-0567-47ab-9e48-9f4e4f1a50da"
      },
      "source": [
        "plt.hist(Df['confidence'],bins=20,facecolor =\"peru\",edgecolor =\"black\")"
      ],
      "execution_count": 114,
      "outputs": [
        {
          "output_type": "execute_result",
          "data": {
            "text/plain": [
              "(array([2., 1., 0., 0., 0., 0., 0., 0., 0., 0., 0., 0., 0., 0., 0., 0., 0.,\n",
              "        0., 0., 1.]),\n",
              " array([0.60778443, 0.62739521, 0.64700599, 0.66661677, 0.68622754,\n",
              "        0.70583832, 0.7254491 , 0.74505988, 0.76467066, 0.78428144,\n",
              "        0.80389222, 0.82350299, 0.84311377, 0.86272455, 0.88233533,\n",
              "        0.90194611, 0.92155689, 0.94116766, 0.96077844, 0.98038922,\n",
              "        1.        ]),\n",
              " <a list of 20 Patch objects>)"
            ]
          },
          "metadata": {
            "tags": []
          },
          "execution_count": 114
        },
        {
          "output_type": "display_data",
          "data": {
            "image/png": "[encoded data removed]",
            "text/plain": [
              "<Figure size 432x288 with 1 Axes>"
            ]
          },
          "metadata": {
            "tags": [],
            "needs_background": "light"
          }
        }
      ]
    },
    {
      "cell_type": "code",
      "metadata": {
        "ExecuteTime": {
          "end_time": "2021-07-26T10:18:08.997685Z",
          "start_time": "2021-07-26T10:18:08.776820Z"
        },
        "id": "iZx_H-qVFnYS",
        "outputId": "f4843a6e-6592-455d-c85f-65f3e88746e7"
      },
      "source": [
        "plt.hist(rules['support'],facecolor =\"peru\",edgecolor =\"blue\")"
      ],
      "execution_count": null,
      "outputs": [
        {
          "output_type": "execute_result",
          "data": {
            "text/plain": [
              "(array([40., 24.,  8., 14.,  4.,  6.,  2.,  0.,  0.,  2.]),\n",
              " array([0.101 , 0.1165, 0.132 , 0.1475, 0.163 , 0.1785, 0.194 , 0.2095,\n",
              "        0.225 , 0.2405, 0.256 ]),\n",
              " <BarContainer object of 10 artists>)"
            ]
          },
          "metadata": {
            "tags": []
          },
          "execution_count": 145
        },
        {
          "output_type": "display_data",
          "data": {
            "image/png": "[encoded data removed]",
            "text/plain": [
              "<Figure size 432x288 with 1 Axes>"
            ]
          },
          "metadata": {
            "tags": [],
            "needs_background": "light"
          }
        }
      ]
    },
    {
      "cell_type": "code",
      "metadata": {
        "ExecuteTime": {
          "end_time": "2021-07-26T10:18:11.508822Z",
          "start_time": "2021-07-26T10:18:11.315607Z"
        },
        "colab": {
          "base_uri": "https://localhost:8080/",
          "height": 332
        },
        "id": "WG-vQt72FnYT",
        "outputId": "2fa696e0-353d-44cd-f07e-5c96ee4efbda"
      },
      "source": [
        "plt.hist(Df['support'],facecolor =\"peru\",edgecolor =\"black\")"
      ],
      "execution_count": 115,
      "outputs": [
        {
          "output_type": "execute_result",
          "data": {
            "text/plain": [
              "(array([2., 1., 0., 0., 0., 0., 0., 0., 0., 1.]),\n",
              " array([0.1015, 0.1027, 0.1039, 0.1051, 0.1063, 0.1075, 0.1087, 0.1099,\n",
              "        0.1111, 0.1123, 0.1135]),\n",
              " <a list of 10 Patch objects>)"
            ]
          },
          "metadata": {
            "tags": []
          },
          "execution_count": 115
        },
        {
          "output_type": "display_data",
          "data": {
            "image/png": "[encoded data removed]",
            "text/plain": [
              "<Figure size 432x288 with 1 Axes>"
            ]
          },
          "metadata": {
            "tags": [],
            "needs_background": "light"
          }
        }
      ]
    },
    {
      "cell_type": "code",
      "metadata": {
        "ExecuteTime": {
          "end_time": "2021-07-26T10:18:18.403993Z",
          "start_time": "2021-07-26T10:18:16.645100Z"
        },
        "id": "ct9NSdiWFnYT",
        "outputId": "00c79573-edaf-401c-b5d6-e3a7ef656051"
      },
      "source": [
        "plt.boxplot(rules['support'],vert = True)"
      ],
      "execution_count": null,
      "outputs": [
        {
          "output_type": "execute_result",
          "data": {
            "text/plain": [
              "{'whiskers': [<matplotlib.lines.Line2D at 0x2464403d070>,\n",
              "  <matplotlib.lines.Line2D at 0x24645c98e20>],\n",
              " 'caps': [<matplotlib.lines.Line2D at 0x24645c98eb0>,\n",
              "  <matplotlib.lines.Line2D at 0x24644508760>],\n",
              " 'boxes': [<matplotlib.lines.Line2D at 0x24643fd11c0>],\n",
              " 'medians': [<matplotlib.lines.Line2D at 0x24648f38490>],\n",
              " 'fliers': [<matplotlib.lines.Line2D at 0x24648f38880>],\n",
              " 'means': []}"
            ]
          },
          "metadata": {
            "tags": []
          },
          "execution_count": 147
        },
        {
          "output_type": "display_data",
          "data": {
            "image/png": "[encoded data removed]",
            "text/plain": [
              "<Figure size 432x288 with 1 Axes>"
            ]
          },
          "metadata": {
            "tags": [],
            "needs_background": "light"
          }
        }
      ]
    },
    {
      "cell_type": "code",
      "metadata": {
        "colab": {
          "base_uri": "https://localhost:8080/",
          "height": 402
        },
        "id": "oLScEoOZ0ZPA",
        "outputId": "8e7f22b8-d102-4b99-b149-6ae10f85ab6c"
      },
      "source": [
        "plt.boxplot(Df['support'],vert = True)"
      ],
      "execution_count": 118,
      "outputs": [
        {
          "output_type": "execute_result",
          "data": {
            "text/plain": [
              "{'boxes': [<matplotlib.lines.Line2D at 0x7f07df806c10>],\n",
              " 'caps': [<matplotlib.lines.Line2D at 0x7f07df91fd50>,\n",
              "  <matplotlib.lines.Line2D at 0x7f07e14bb650>],\n",
              " 'fliers': [<matplotlib.lines.Line2D at 0x7f07e008c850>],\n",
              " 'means': [],\n",
              " 'medians': [<matplotlib.lines.Line2D at 0x7f07e00337d0>],\n",
              " 'whiskers': [<matplotlib.lines.Line2D at 0x7f07df89bed0>,\n",
              "  <matplotlib.lines.Line2D at 0x7f07df897590>]}"
            ]
          },
          "metadata": {
            "tags": []
          },
          "execution_count": 118
        },
        {
          "output_type": "display_data",
          "data": {
            "image/png": "[encoded data removed]",
            "text/plain": [
              "<Figure size 432x288 with 1 Axes>"
            ]
          },
          "metadata": {
            "tags": [],
            "needs_background": "light"
          }
        }
      ]
    },
    {
      "cell_type": "code",
      "metadata": {
        "colab": {
          "base_uri": "https://localhost:8080/",
          "height": 399
        },
        "id": "G-SCSfDp0KUr",
        "outputId": "71e267c0-1b4c-44dd-9626-46755333800f"
      },
      "source": [
        "plt.boxplot(Df['confidence'],vert = True)"
      ],
      "execution_count": 119,
      "outputs": [
        {
          "output_type": "execute_result",
          "data": {
            "text/plain": [
              "{'boxes': [<matplotlib.lines.Line2D at 0x7f07df6d4950>],\n",
              " 'caps': [<matplotlib.lines.Line2D at 0x7f07df6d8990>,\n",
              "  <matplotlib.lines.Line2D at 0x7f07df6d8ed0>],\n",
              " 'fliers': [<matplotlib.lines.Line2D at 0x7f07df6dd9d0>],\n",
              " 'means': [],\n",
              " 'medians': [<matplotlib.lines.Line2D at 0x7f07df6dd490>],\n",
              " 'whiskers': [<matplotlib.lines.Line2D at 0x7f07df6d4ed0>,\n",
              "  <matplotlib.lines.Line2D at 0x7f07df6d8450>]}"
            ]
          },
          "metadata": {
            "tags": []
          },
          "execution_count": 119
        },
        {
          "output_type": "display_data",
          "data": {
            "image/png": "[encoded data removed]",
            "text/plain": [
              "<Figure size 432x288 with 1 Axes>"
            ]
          },
          "metadata": {
            "tags": [],
            "needs_background": "light"
          }
        }
      ]
    },
    {
      "cell_type": "code",
      "metadata": {
        "ExecuteTime": {
          "end_time": "2021-07-26T10:18:21.973903Z",
          "start_time": "2021-07-26T10:18:21.444045Z"
        },
        "colab": {
          "base_uri": "https://localhost:8080/",
          "height": 399
        },
        "id": "5e_meBdsFnYT",
        "outputId": "7f8408b6-9274-42a4-9318-98eca5c0f972"
      },
      "source": [
        "plt.boxplot(rules['confidence'],vert= True)"
      ],
      "execution_count": 120,
      "outputs": [
        {
          "output_type": "execute_result",
          "data": {
            "text/plain": [
              "{'boxes': [<matplotlib.lines.Line2D at 0x7f07df6408d0>],\n",
              " 'caps': [<matplotlib.lines.Line2D at 0x7f07df644910>,\n",
              "  <matplotlib.lines.Line2D at 0x7f07df644e50>],\n",
              " 'fliers': [<matplotlib.lines.Line2D at 0x7f07df64b950>],\n",
              " 'means': [],\n",
              " 'medians': [<matplotlib.lines.Line2D at 0x7f07df64b410>],\n",
              " 'whiskers': [<matplotlib.lines.Line2D at 0x7f07df640e50>,\n",
              "  <matplotlib.lines.Line2D at 0x7f07df6443d0>]}"
            ]
          },
          "metadata": {
            "tags": []
          },
          "execution_count": 120
        },
        {
          "output_type": "display_data",
          "data": {
            "image/png": "[encoded data removed]",
            "text/plain": [
              "<Figure size 432x288 with 1 Axes>"
            ]
          },
          "metadata": {
            "tags": [],
            "needs_background": "light"
          }
        }
      ]
    },
    {
      "cell_type": "code",
      "metadata": {
        "ExecuteTime": {
          "end_time": "2021-07-26T10:18:24.903030Z",
          "start_time": "2021-07-26T10:18:24.535744Z"
        },
        "id": "kT0SIn3tFnYU",
        "outputId": "70d78fb2-3436-4f97-bf78-d7d0eb8f015c"
      },
      "source": [
        "## Violinplot used for checkin how dense the data is\n",
        "plt.violinplot(rules['support'])"
      ],
      "execution_count": null,
      "outputs": [
        {
          "output_type": "execute_result",
          "data": {
            "text/plain": [
              "{'bodies': [<matplotlib.collections.PolyCollection at 0x2464910a9d0>],\n",
              " 'cmaxes': <matplotlib.collections.LineCollection at 0x2464910a820>,\n",
              " 'cmins': <matplotlib.collections.LineCollection at 0x2464910a850>,\n",
              " 'cbars': <matplotlib.collections.LineCollection at 0x246491171c0>}"
            ]
          },
          "metadata": {
            "tags": []
          },
          "execution_count": 149
        },
        {
          "output_type": "display_data",
          "data": {
            "image/png": "[encoded data removed]",
            "text/plain": [
              "<Figure size 432x288 with 1 Axes>"
            ]
          },
          "metadata": {
            "tags": [],
            "needs_background": "light"
          }
        }
      ]
    },
    {
      "cell_type": "code",
      "metadata": {
        "colab": {
          "base_uri": "https://localhost:8080/",
          "height": 335
        },
        "id": "KQHF2z6q0kSw",
        "outputId": "64593f86-46ef-4c39-d1ed-fffd4a6868d1"
      },
      "source": [
        "plt.violinplot(Df['support'])"
      ],
      "execution_count": 121,
      "outputs": [
        {
          "output_type": "execute_result",
          "data": {
            "text/plain": [
              "{'bodies': [<matplotlib.collections.PolyCollection at 0x7f07df5a4e90>],\n",
              " 'cbars': <matplotlib.collections.LineCollection at 0x7f07df5a4c10>,\n",
              " 'cmaxes': <matplotlib.collections.LineCollection at 0x7f07df604b90>,\n",
              " 'cmins': <matplotlib.collections.LineCollection at 0x7f07df5b0090>}"
            ]
          },
          "metadata": {
            "tags": []
          },
          "execution_count": 121
        },
        {
          "output_type": "display_data",
          "data": {
            "image/png": "[encoded data removed]",
            "text/plain": [
              "<Figure size 432x288 with 1 Axes>"
            ]
          },
          "metadata": {
            "tags": [],
            "needs_background": "light"
          }
        }
      ]
    },
    {
      "cell_type": "code",
      "metadata": {
        "ExecuteTime": {
          "end_time": "2021-07-26T10:18:27.588904Z",
          "start_time": "2021-07-26T10:18:27.406746Z"
        },
        "id": "ASjTNmZrFnYU",
        "outputId": "2b722487-cfd3-41fb-bedd-e4d59cc6719d"
      },
      "source": [
        "plt.violinplot(rules['confidence'])"
      ],
      "execution_count": null,
      "outputs": [
        {
          "output_type": "execute_result",
          "data": {
            "text/plain": [
              "{'bodies': [<matplotlib.collections.PolyCollection at 0x246491704c0>],\n",
              " 'cmaxes': <matplotlib.collections.LineCollection at 0x24649170310>,\n",
              " 'cmins': <matplotlib.collections.LineCollection at 0x24649170370>,\n",
              " 'cbars': <matplotlib.collections.LineCollection at 0x24649170970>}"
            ]
          },
          "metadata": {
            "tags": []
          },
          "execution_count": 150
        },
        {
          "output_type": "display_data",
          "data": {
            "image/png": "[encoded data removed]",
            "text/plain": [
              "<Figure size 432x288 with 1 Axes>"
            ]
          },
          "metadata": {
            "tags": [],
            "needs_background": "light"
          }
        }
      ]
    },
    {
      "cell_type": "code",
      "metadata": {
        "colab": {
          "base_uri": "https://localhost:8080/",
          "height": 335
        },
        "id": "jKZ-h3uw0rAI",
        "outputId": "6264871e-fb13-4aec-dbaa-8f5a08118933"
      },
      "source": [
        "plt.violinplot(Df['support'])"
      ],
      "execution_count": 122,
      "outputs": [
        {
          "output_type": "execute_result",
          "data": {
            "text/plain": [
              "{'bodies': [<matplotlib.collections.PolyCollection at 0x7f07df59d210>],\n",
              " 'cbars': <matplotlib.collections.LineCollection at 0x7f07df59d790>,\n",
              " 'cmaxes': <matplotlib.collections.LineCollection at 0x7f07df58a510>,\n",
              " 'cmins': <matplotlib.collections.LineCollection at 0x7f07df59d310>}"
            ]
          },
          "metadata": {
            "tags": []
          },
          "execution_count": 122
        },
        {
          "output_type": "display_data",
          "data": {
            "image/png": "[encoded data removed]",
            "text/plain": [
              "<Figure size 432x288 with 1 Axes>"
            ]
          },
          "metadata": {
            "tags": [],
            "needs_background": "light"
          }
        }
      ]
    },
    {
      "cell_type": "code",
      "metadata": {
        "ExecuteTime": {
          "end_time": "2021-07-26T10:18:32.339051Z",
          "start_time": "2021-07-26T10:18:32.329134Z"
        },
        "id": "rwjmF9s8FnYU"
      },
      "source": [
        "import seaborn as sns\n",
        "\n",
        "import warnings\n",
        "warnings.filterwarnings(\"ignore\")"
      ],
      "execution_count": 123,
      "outputs": []
    },
    {
      "cell_type": "code",
      "metadata": {
        "ExecuteTime": {
          "end_time": "2021-07-26T10:18:34.782835Z",
          "start_time": "2021-07-26T10:18:34.397325Z"
        },
        "id": "xOAi2gxaFnYU",
        "outputId": "fb722f0b-4ca6-484e-d9c1-4feba38507ef"
      },
      "source": [
        "sns.stripplot(y= 'support', data=rules,jitter=True)"
      ],
      "execution_count": null,
      "outputs": [
        {
          "output_type": "execute_result",
          "data": {
            "text/plain": [
              "<AxesSubplot:ylabel='support'>"
            ]
          },
          "metadata": {
            "tags": []
          },
          "execution_count": 152
        },
        {
          "output_type": "display_data",
          "data": {
            "image/png": "[encoded data removed]",
            "text/plain": [
              "<Figure size 432x288 with 1 Axes>"
            ]
          },
          "metadata": {
            "tags": [],
            "needs_background": "light"
          }
        }
      ]
    },
    {
      "cell_type": "code",
      "metadata": {
        "ExecuteTime": {
          "end_time": "2021-07-26T10:18:36.996450Z",
          "start_time": "2021-07-26T10:18:36.867120Z"
        },
        "id": "-egkbgy1FnYV",
        "outputId": "5cb7734f-750f-4481-a48b-2db624e72065"
      },
      "source": [
        "sns.stripplot(y= 'confidence', data=rules,jitter=True)"
      ],
      "execution_count": null,
      "outputs": [
        {
          "output_type": "execute_result",
          "data": {
            "text/plain": [
              "<AxesSubplot:ylabel='confidence'>"
            ]
          },
          "metadata": {
            "tags": []
          },
          "execution_count": 153
        },
        {
          "output_type": "display_data",
          "data": {
            "image/png": "[encoded data removed]",
            "text/plain": [
              "<Figure size 432x288 with 1 Axes>"
            ]
          },
          "metadata": {
            "tags": [],
            "needs_background": "light"
          }
        }
      ]
    },
    {
      "cell_type": "markdown",
      "metadata": {
        "id": "o1M2p0ivFnYV"
      },
      "source": [
        "# Associations Rule with 0.2% support and 0.80% confidence interval"
      ]
    },
    {
      "cell_type": "code",
      "metadata": {
        "ExecuteTime": {
          "end_time": "2021-07-26T11:09:45.770107Z",
          "start_time": "2021-07-26T11:09:45.720890Z"
        },
        "id": "HdfZFTLFFnYV"
      },
      "source": [
        "## with 0.2% support\n",
        "frequent_itemsets2 = apriori(books,min_support=0.2,use_colnames= True)"
      ],
      "execution_count": null,
      "outputs": []
    },
    {
      "cell_type": "code",
      "metadata": {
        "ExecuteTime": {
          "end_time": "2021-07-26T11:09:48.062359Z",
          "start_time": "2021-07-26T11:09:47.856672Z"
        },
        "id": "UcylqgALFnYV",
        "outputId": "9b7e7b32-37a3-479a-ecd1-622710bb95e3"
      },
      "source": [
        "frequent_itemsets"
      ],
      "execution_count": null,
      "outputs": [
        {
          "output_type": "execute_result",
          "data": {
            "text/html": [
              "<div>\n",
              "<style scoped>\n",
              "    .dataframe tbody tr th:only-of-type {\n",
              "        vertical-align: middle;\n",
              "    }\n",
              "\n",
              "    .dataframe tbody tr th {\n",
              "        vertical-align: top;\n",
              "    }\n",
              "\n",
              "    .dataframe thead th {\n",
              "        text-align: right;\n",
              "    }\n",
              "</style>\n",
              "<table border=\"1\" class=\"dataframe\">\n",
              "  <thead>\n",
              "    <tr style=\"text-align: right;\">\n",
              "      <th></th>\n",
              "      <th>support</th>\n",
              "      <th>itemsets</th>\n",
              "    </tr>\n",
              "  </thead>\n",
              "  <tbody>\n",
              "    <tr>\n",
              "      <th>0</th>\n",
              "      <td>0.4230</td>\n",
              "      <td>(ChildBks)</td>\n",
              "    </tr>\n",
              "    <tr>\n",
              "      <th>1</th>\n",
              "      <td>0.2475</td>\n",
              "      <td>(YouthBks)</td>\n",
              "    </tr>\n",
              "    <tr>\n",
              "      <th>2</th>\n",
              "      <td>0.4310</td>\n",
              "      <td>(CookBks)</td>\n",
              "    </tr>\n",
              "    <tr>\n",
              "      <th>3</th>\n",
              "      <td>0.2820</td>\n",
              "      <td>(DoItYBks)</td>\n",
              "    </tr>\n",
              "    <tr>\n",
              "      <th>4</th>\n",
              "      <td>0.2145</td>\n",
              "      <td>(RefBks)</td>\n",
              "    </tr>\n",
              "    <tr>\n",
              "      <th>5</th>\n",
              "      <td>0.2410</td>\n",
              "      <td>(ArtBks)</td>\n",
              "    </tr>\n",
              "    <tr>\n",
              "      <th>6</th>\n",
              "      <td>0.2760</td>\n",
              "      <td>(GeogBks)</td>\n",
              "    </tr>\n",
              "    <tr>\n",
              "      <th>7</th>\n",
              "      <td>0.1135</td>\n",
              "      <td>(ItalCook)</td>\n",
              "    </tr>\n",
              "    <tr>\n",
              "      <th>8</th>\n",
              "      <td>0.1085</td>\n",
              "      <td>(Florence)</td>\n",
              "    </tr>\n",
              "    <tr>\n",
              "      <th>9</th>\n",
              "      <td>0.1650</td>\n",
              "      <td>(ChildBks, YouthBks)</td>\n",
              "    </tr>\n",
              "    <tr>\n",
              "      <th>10</th>\n",
              "      <td>0.2560</td>\n",
              "      <td>(CookBks, ChildBks)</td>\n",
              "    </tr>\n",
              "    <tr>\n",
              "      <th>11</th>\n",
              "      <td>0.1840</td>\n",
              "      <td>(ChildBks, DoItYBks)</td>\n",
              "    </tr>\n",
              "    <tr>\n",
              "      <th>12</th>\n",
              "      <td>0.1515</td>\n",
              "      <td>(ChildBks, RefBks)</td>\n",
              "    </tr>\n",
              "    <tr>\n",
              "      <th>13</th>\n",
              "      <td>0.1625</td>\n",
              "      <td>(ArtBks, ChildBks)</td>\n",
              "    </tr>\n",
              "    <tr>\n",
              "      <th>14</th>\n",
              "      <td>0.1950</td>\n",
              "      <td>(GeogBks, ChildBks)</td>\n",
              "    </tr>\n",
              "    <tr>\n",
              "      <th>15</th>\n",
              "      <td>0.1620</td>\n",
              "      <td>(CookBks, YouthBks)</td>\n",
              "    </tr>\n",
              "    <tr>\n",
              "      <th>16</th>\n",
              "      <td>0.1155</td>\n",
              "      <td>(DoItYBks, YouthBks)</td>\n",
              "    </tr>\n",
              "    <tr>\n",
              "      <th>17</th>\n",
              "      <td>0.1010</td>\n",
              "      <td>(ArtBks, YouthBks)</td>\n",
              "    </tr>\n",
              "    <tr>\n",
              "      <th>18</th>\n",
              "      <td>0.1205</td>\n",
              "      <td>(GeogBks, YouthBks)</td>\n",
              "    </tr>\n",
              "    <tr>\n",
              "      <th>19</th>\n",
              "      <td>0.1875</td>\n",
              "      <td>(CookBks, DoItYBks)</td>\n",
              "    </tr>\n",
              "    <tr>\n",
              "      <th>20</th>\n",
              "      <td>0.1525</td>\n",
              "      <td>(CookBks, RefBks)</td>\n",
              "    </tr>\n",
              "    <tr>\n",
              "      <th>21</th>\n",
              "      <td>0.1670</td>\n",
              "      <td>(ArtBks, CookBks)</td>\n",
              "    </tr>\n",
              "    <tr>\n",
              "      <th>22</th>\n",
              "      <td>0.1925</td>\n",
              "      <td>(GeogBks, CookBks)</td>\n",
              "    </tr>\n",
              "    <tr>\n",
              "      <th>23</th>\n",
              "      <td>0.1135</td>\n",
              "      <td>(CookBks, ItalCook)</td>\n",
              "    </tr>\n",
              "    <tr>\n",
              "      <th>24</th>\n",
              "      <td>0.1055</td>\n",
              "      <td>(RefBks, DoItYBks)</td>\n",
              "    </tr>\n",
              "    <tr>\n",
              "      <th>25</th>\n",
              "      <td>0.1235</td>\n",
              "      <td>(ArtBks, DoItYBks)</td>\n",
              "    </tr>\n",
              "    <tr>\n",
              "      <th>26</th>\n",
              "      <td>0.1325</td>\n",
              "      <td>(GeogBks, DoItYBks)</td>\n",
              "    </tr>\n",
              "    <tr>\n",
              "      <th>27</th>\n",
              "      <td>0.1105</td>\n",
              "      <td>(GeogBks, RefBks)</td>\n",
              "    </tr>\n",
              "    <tr>\n",
              "      <th>28</th>\n",
              "      <td>0.1275</td>\n",
              "      <td>(ArtBks, GeogBks)</td>\n",
              "    </tr>\n",
              "    <tr>\n",
              "      <th>29</th>\n",
              "      <td>0.1290</td>\n",
              "      <td>(CookBks, ChildBks, YouthBks)</td>\n",
              "    </tr>\n",
              "    <tr>\n",
              "      <th>30</th>\n",
              "      <td>0.1460</td>\n",
              "      <td>(CookBks, ChildBks, DoItYBks)</td>\n",
              "    </tr>\n",
              "    <tr>\n",
              "      <th>31</th>\n",
              "      <td>0.1225</td>\n",
              "      <td>(CookBks, ChildBks, RefBks)</td>\n",
              "    </tr>\n",
              "    <tr>\n",
              "      <th>32</th>\n",
              "      <td>0.1265</td>\n",
              "      <td>(ArtBks, CookBks, ChildBks)</td>\n",
              "    </tr>\n",
              "    <tr>\n",
              "      <th>33</th>\n",
              "      <td>0.1495</td>\n",
              "      <td>(GeogBks, CookBks, ChildBks)</td>\n",
              "    </tr>\n",
              "    <tr>\n",
              "      <th>34</th>\n",
              "      <td>0.1045</td>\n",
              "      <td>(GeogBks, ChildBks, DoItYBks)</td>\n",
              "    </tr>\n",
              "    <tr>\n",
              "      <th>35</th>\n",
              "      <td>0.1020</td>\n",
              "      <td>(ArtBks, ChildBks, GeogBks)</td>\n",
              "    </tr>\n",
              "    <tr>\n",
              "      <th>36</th>\n",
              "      <td>0.1015</td>\n",
              "      <td>(ArtBks, CookBks, DoItYBks)</td>\n",
              "    </tr>\n",
              "    <tr>\n",
              "      <th>37</th>\n",
              "      <td>0.1085</td>\n",
              "      <td>(GeogBks, CookBks, DoItYBks)</td>\n",
              "    </tr>\n",
              "    <tr>\n",
              "      <th>38</th>\n",
              "      <td>0.1035</td>\n",
              "      <td>(ArtBks, CookBks, GeogBks)</td>\n",
              "    </tr>\n",
              "  </tbody>\n",
              "</table>\n",
              "</div>"
            ],
            "text/plain": [
              "    support                       itemsets\n",
              "0    0.4230                     (ChildBks)\n",
              "1    0.2475                     (YouthBks)\n",
              "2    0.4310                      (CookBks)\n",
              "3    0.2820                     (DoItYBks)\n",
              "4    0.2145                       (RefBks)\n",
              "5    0.2410                       (ArtBks)\n",
              "6    0.2760                      (GeogBks)\n",
              "7    0.1135                     (ItalCook)\n",
              "8    0.1085                     (Florence)\n",
              "9    0.1650           (ChildBks, YouthBks)\n",
              "10   0.2560            (CookBks, ChildBks)\n",
              "11   0.1840           (ChildBks, DoItYBks)\n",
              "12   0.1515             (ChildBks, RefBks)\n",
              "13   0.1625             (ArtBks, ChildBks)\n",
              "14   0.1950            (GeogBks, ChildBks)\n",
              "15   0.1620            (CookBks, YouthBks)\n",
              "16   0.1155           (DoItYBks, YouthBks)\n",
              "17   0.1010             (ArtBks, YouthBks)\n",
              "18   0.1205            (GeogBks, YouthBks)\n",
              "19   0.1875            (CookBks, DoItYBks)\n",
              "20   0.1525              (CookBks, RefBks)\n",
              "21   0.1670              (ArtBks, CookBks)\n",
              "22   0.1925             (GeogBks, CookBks)\n",
              "23   0.1135            (CookBks, ItalCook)\n",
              "24   0.1055             (RefBks, DoItYBks)\n",
              "25   0.1235             (ArtBks, DoItYBks)\n",
              "26   0.1325            (GeogBks, DoItYBks)\n",
              "27   0.1105              (GeogBks, RefBks)\n",
              "28   0.1275              (ArtBks, GeogBks)\n",
              "29   0.1290  (CookBks, ChildBks, YouthBks)\n",
              "30   0.1460  (CookBks, ChildBks, DoItYBks)\n",
              "31   0.1225    (CookBks, ChildBks, RefBks)\n",
              "32   0.1265    (ArtBks, CookBks, ChildBks)\n",
              "33   0.1495   (GeogBks, CookBks, ChildBks)\n",
              "34   0.1045  (GeogBks, ChildBks, DoItYBks)\n",
              "35   0.1020    (ArtBks, ChildBks, GeogBks)\n",
              "36   0.1015    (ArtBks, CookBks, DoItYBks)\n",
              "37   0.1085   (GeogBks, CookBks, DoItYBks)\n",
              "38   0.1035     (ArtBks, CookBks, GeogBks)"
            ]
          },
          "metadata": {
            "tags": []
          },
          "execution_count": 167
        }
      ]
    },
    {
      "cell_type": "code",
      "metadata": {
        "ExecuteTime": {
          "end_time": "2021-07-26T11:09:56.446747Z",
          "start_time": "2021-07-26T11:09:56.430455Z"
        },
        "id": "6bRf-cGUFnYW"
      },
      "source": [
        "## with 0.8% threshold or confidence\n",
        "rules2 = association_rules(frequent_itemsets2,metric = 'lift',min_threshold=0.8)"
      ],
      "execution_count": null,
      "outputs": []
    },
    {
      "cell_type": "code",
      "metadata": {
        "ExecuteTime": {
          "end_time": "2021-07-26T11:10:00.135978Z",
          "start_time": "2021-07-26T11:10:00.104036Z"
        },
        "id": "n-1y59nwFnYW",
        "outputId": "26ba6444-e480-45ad-b86f-bee7fa707c31"
      },
      "source": [
        "rules2"
      ],
      "execution_count": null,
      "outputs": [
        {
          "output_type": "execute_result",
          "data": {
            "text/html": [
              "<div>\n",
              "<style scoped>\n",
              "    .dataframe tbody tr th:only-of-type {\n",
              "        vertical-align: middle;\n",
              "    }\n",
              "\n",
              "    .dataframe tbody tr th {\n",
              "        vertical-align: top;\n",
              "    }\n",
              "\n",
              "    .dataframe thead th {\n",
              "        text-align: right;\n",
              "    }\n",
              "</style>\n",
              "<table border=\"1\" class=\"dataframe\">\n",
              "  <thead>\n",
              "    <tr style=\"text-align: right;\">\n",
              "      <th></th>\n",
              "      <th>antecedents</th>\n",
              "      <th>consequents</th>\n",
              "      <th>antecedent support</th>\n",
              "      <th>consequent support</th>\n",
              "      <th>support</th>\n",
              "      <th>confidence</th>\n",
              "      <th>lift</th>\n",
              "      <th>leverage</th>\n",
              "      <th>conviction</th>\n",
              "    </tr>\n",
              "  </thead>\n",
              "  <tbody>\n",
              "    <tr>\n",
              "      <th>0</th>\n",
              "      <td>(CookBks)</td>\n",
              "      <td>(ChildBks)</td>\n",
              "      <td>0.431</td>\n",
              "      <td>0.423</td>\n",
              "      <td>0.256</td>\n",
              "      <td>0.593968</td>\n",
              "      <td>1.404179</td>\n",
              "      <td>0.073687</td>\n",
              "      <td>1.421069</td>\n",
              "    </tr>\n",
              "    <tr>\n",
              "      <th>1</th>\n",
              "      <td>(ChildBks)</td>\n",
              "      <td>(CookBks)</td>\n",
              "      <td>0.423</td>\n",
              "      <td>0.431</td>\n",
              "      <td>0.256</td>\n",
              "      <td>0.605201</td>\n",
              "      <td>1.404179</td>\n",
              "      <td>0.073687</td>\n",
              "      <td>1.441240</td>\n",
              "    </tr>\n",
              "  </tbody>\n",
              "</table>\n",
              "</div>"
            ],
            "text/plain": [
              "  antecedents consequents  antecedent support  consequent support  support  \\\n",
              "0   (CookBks)  (ChildBks)               0.431               0.423    0.256   \n",
              "1  (ChildBks)   (CookBks)               0.423               0.431    0.256   \n",
              "\n",
              "   confidence      lift  leverage  conviction  \n",
              "0    0.593968  1.404179  0.073687    1.421069  \n",
              "1    0.605201  1.404179  0.073687    1.441240  "
            ]
          },
          "metadata": {
            "tags": []
          },
          "execution_count": 169
        }
      ]
    },
    {
      "cell_type": "code",
      "metadata": {
        "ExecuteTime": {
          "end_time": "2021-07-26T11:23:11.258700Z",
          "start_time": "2021-07-26T11:23:11.229439Z"
        },
        "id": "nvigyDyaFnYW",
        "outputId": "1093bf3b-52b3-4c1f-a63a-f80bcb40c211"
      },
      "source": [
        "rules2[rules2.lift>1]"
      ],
      "execution_count": null,
      "outputs": [
        {
          "output_type": "execute_result",
          "data": {
            "text/html": [
              "<div>\n",
              "<style scoped>\n",
              "    .dataframe tbody tr th:only-of-type {\n",
              "        vertical-align: middle;\n",
              "    }\n",
              "\n",
              "    .dataframe tbody tr th {\n",
              "        vertical-align: top;\n",
              "    }\n",
              "\n",
              "    .dataframe thead th {\n",
              "        text-align: right;\n",
              "    }\n",
              "</style>\n",
              "<table border=\"1\" class=\"dataframe\">\n",
              "  <thead>\n",
              "    <tr style=\"text-align: right;\">\n",
              "      <th></th>\n",
              "      <th>antecedents</th>\n",
              "      <th>consequents</th>\n",
              "      <th>antecedent support</th>\n",
              "      <th>consequent support</th>\n",
              "      <th>support</th>\n",
              "      <th>confidence</th>\n",
              "      <th>lift</th>\n",
              "      <th>leverage</th>\n",
              "      <th>conviction</th>\n",
              "    </tr>\n",
              "  </thead>\n",
              "  <tbody>\n",
              "    <tr>\n",
              "      <th>0</th>\n",
              "      <td>(CookBks)</td>\n",
              "      <td>(ChildBks)</td>\n",
              "      <td>0.431</td>\n",
              "      <td>0.423</td>\n",
              "      <td>0.256</td>\n",
              "      <td>0.593968</td>\n",
              "      <td>1.404179</td>\n",
              "      <td>0.073687</td>\n",
              "      <td>1.421069</td>\n",
              "    </tr>\n",
              "    <tr>\n",
              "      <th>1</th>\n",
              "      <td>(ChildBks)</td>\n",
              "      <td>(CookBks)</td>\n",
              "      <td>0.423</td>\n",
              "      <td>0.431</td>\n",
              "      <td>0.256</td>\n",
              "      <td>0.605201</td>\n",
              "      <td>1.404179</td>\n",
              "      <td>0.073687</td>\n",
              "      <td>1.441240</td>\n",
              "    </tr>\n",
              "  </tbody>\n",
              "</table>\n",
              "</div>"
            ],
            "text/plain": [
              "  antecedents consequents  antecedent support  consequent support  support  \\\n",
              "0   (CookBks)  (ChildBks)               0.431               0.423    0.256   \n",
              "1  (ChildBks)   (CookBks)               0.423               0.431    0.256   \n",
              "\n",
              "   confidence      lift  leverage  conviction  \n",
              "0    0.593968  1.404179  0.073687    1.421069  \n",
              "1    0.605201  1.404179  0.073687    1.441240  "
            ]
          },
          "metadata": {
            "tags": []
          },
          "execution_count": 188
        }
      ]
    },
    {
      "cell_type": "code",
      "metadata": {
        "ExecuteTime": {
          "end_time": "2021-07-26T11:12:08.038685Z",
          "start_time": "2021-07-26T11:12:07.812503Z"
        },
        "id": "LkGSHwjMFnYW",
        "outputId": "ce712b05-72ef-4a50-ae58-00ba19e879ee"
      },
      "source": [
        "####Visualisation of above data analysis books association rules2\n",
        "plt.scatter(rules2['support'],rules2['confidence'])\n",
        "plt.xlabel('support')\n",
        "plt.ylabel('confidence')\n",
        "plt.title('Scatter Plot')\n",
        "plt.suptitle('Book_Data Association Rules Comparison', size=15, y=1.03)\n",
        "\n",
        "plt.show()"
      ],
      "execution_count": null,
      "outputs": [
        {
          "output_type": "display_data",
          "data": {
            "image/png": "[encoded data removed]",
            "text/plain": [
              "<Figure size 432x288 with 1 Axes>"
            ]
          },
          "metadata": {
            "tags": [],
            "needs_background": "light"
          }
        }
      ]
    },
    {
      "cell_type": "code",
      "metadata": {
        "ExecuteTime": {
          "end_time": "2021-07-26T11:12:51.971600Z",
          "start_time": "2021-07-26T11:12:51.689222Z"
        },
        "id": "lF4XRz3-FnYX",
        "outputId": "8c3d999b-3cb4-4438-ffe3-161c3450cf51"
      },
      "source": [
        "plt.hist(rules2['confidence'])"
      ],
      "execution_count": null,
      "outputs": [
        {
          "output_type": "execute_result",
          "data": {
            "text/plain": [
              "(array([1., 0., 0., 0., 0., 0., 0., 0., 0., 1.]),\n",
              " array([0.59396752, 0.59509086, 0.5962142 , 0.59733755, 0.59846089,\n",
              "        0.59958423, 0.60070757, 0.60183092, 0.60295426, 0.6040776 ,\n",
              "        0.60520095]),\n",
              " <BarContainer object of 10 artists>)"
            ]
          },
          "metadata": {
            "tags": []
          },
          "execution_count": 174
        },
        {
          "output_type": "display_data",
          "data": {
            "image/png": "[encoded data removed]",
            "text/plain": [
              "<Figure size 432x288 with 1 Axes>"
            ]
          },
          "metadata": {
            "tags": [],
            "needs_background": "light"
          }
        }
      ]
    },
    {
      "cell_type": "code",
      "metadata": {
        "ExecuteTime": {
          "end_time": "2021-07-26T11:13:14.585575Z",
          "start_time": "2021-07-26T11:13:14.249473Z"
        },
        "id": "BadNX3dZFnYX",
        "outputId": "841461b4-fa73-48c9-cdc7-9f5c070c42d1"
      },
      "source": [
        "plt.hist(rules2['support'])"
      ],
      "execution_count": null,
      "outputs": [
        {
          "output_type": "execute_result",
          "data": {
            "text/plain": [
              "(array([0., 0., 0., 0., 0., 2., 0., 0., 0., 0.]),\n",
              " array([-0.244, -0.144, -0.044,  0.056,  0.156,  0.256,  0.356,  0.456,\n",
              "         0.556,  0.656,  0.756]),\n",
              " <BarContainer object of 10 artists>)"
            ]
          },
          "metadata": {
            "tags": []
          },
          "execution_count": 175
        },
        {
          "output_type": "display_data",
          "data": {
            "image/png": "[encoded data removed]",
            "text/plain": [
              "<Figure size 432x288 with 1 Axes>"
            ]
          },
          "metadata": {
            "tags": [],
            "needs_background": "light"
          }
        }
      ]
    },
    {
      "cell_type": "code",
      "metadata": {
        "ExecuteTime": {
          "end_time": "2021-07-26T11:14:55.099402Z",
          "start_time": "2021-07-26T11:14:54.857888Z"
        },
        "id": "_8hmLjo_FnYX",
        "outputId": "a98c5403-7585-4b02-80b1-4479834f3de7"
      },
      "source": [
        "sns.stripplot(y= 'support', data=rules2,jitter=True)"
      ],
      "execution_count": null,
      "outputs": [
        {
          "output_type": "execute_result",
          "data": {
            "text/plain": [
              "<AxesSubplot:ylabel='support'>"
            ]
          },
          "metadata": {
            "tags": []
          },
          "execution_count": 179
        },
        {
          "output_type": "display_data",
          "data": {
            "image/png": "[encoded data removed]",
            "text/plain": [
              "<Figure size 432x288 with 1 Axes>"
            ]
          },
          "metadata": {
            "tags": [],
            "needs_background": "light"
          }
        }
      ]
    },
    {
      "cell_type": "code",
      "metadata": {
        "ExecuteTime": {
          "end_time": "2021-07-26T11:15:12.938701Z",
          "start_time": "2021-07-26T11:15:12.800013Z"
        },
        "id": "MswyN82yFnYX",
        "outputId": "f097a9e8-afe2-4cd9-8494-c35749cd08cc"
      },
      "source": [
        "sns.stripplot(y= 'confidence', data=rules2,jitter=True)"
      ],
      "execution_count": null,
      "outputs": [
        {
          "output_type": "execute_result",
          "data": {
            "text/plain": [
              "<AxesSubplot:ylabel='confidence'>"
            ]
          },
          "metadata": {
            "tags": []
          },
          "execution_count": 180
        },
        {
          "output_type": "display_data",
          "data": {
            "image/png": "[encoded data removed]",
            "text/plain": [
              "<Figure size 432x288 with 1 Axes>"
            ]
          },
          "metadata": {
            "tags": [],
            "needs_background": "light"
          }
        }
      ]
    },
    {
      "cell_type": "markdown",
      "metadata": {
        "id": "IsbVGwKKFnYY"
      },
      "source": [
        "#  Associations Rule with 8% support and 80% confidence interval"
      ]
    },
    {
      "cell_type": "code",
      "metadata": {
        "ExecuteTime": {
          "end_time": "2021-07-26T11:27:41.132226Z",
          "start_time": "2021-07-26T11:27:40.887601Z"
        },
        "id": "5jtG_eMLFnYY"
      },
      "source": [
        "## with 0.2% support\n",
        "frequent_itemsets3 = apriori(books,min_support=0.08,use_colnames= True)"
      ],
      "execution_count": null,
      "outputs": []
    },
    {
      "cell_type": "code",
      "metadata": {
        "ExecuteTime": {
          "end_time": "2021-07-26T11:27:44.796451Z",
          "start_time": "2021-07-26T11:27:44.568051Z"
        },
        "id": "-8bMhKbuFnYY",
        "outputId": "384b1ada-f9c4-44be-deda-a6e9dc36b209"
      },
      "source": [
        "frequent_itemsets3"
      ],
      "execution_count": null,
      "outputs": [
        {
          "output_type": "execute_result",
          "data": {
            "text/html": [
              "<div>\n",
              "<style scoped>\n",
              "    .dataframe tbody tr th:only-of-type {\n",
              "        vertical-align: middle;\n",
              "    }\n",
              "\n",
              "    .dataframe tbody tr th {\n",
              "        vertical-align: top;\n",
              "    }\n",
              "\n",
              "    .dataframe thead th {\n",
              "        text-align: right;\n",
              "    }\n",
              "</style>\n",
              "<table border=\"1\" class=\"dataframe\">\n",
              "  <thead>\n",
              "    <tr style=\"text-align: right;\">\n",
              "      <th></th>\n",
              "      <th>support</th>\n",
              "      <th>itemsets</th>\n",
              "    </tr>\n",
              "  </thead>\n",
              "  <tbody>\n",
              "    <tr>\n",
              "      <th>0</th>\n",
              "      <td>0.4230</td>\n",
              "      <td>(ChildBks)</td>\n",
              "    </tr>\n",
              "    <tr>\n",
              "      <th>1</th>\n",
              "      <td>0.2475</td>\n",
              "      <td>(YouthBks)</td>\n",
              "    </tr>\n",
              "    <tr>\n",
              "      <th>2</th>\n",
              "      <td>0.4310</td>\n",
              "      <td>(CookBks)</td>\n",
              "    </tr>\n",
              "    <tr>\n",
              "      <th>3</th>\n",
              "      <td>0.2820</td>\n",
              "      <td>(DoItYBks)</td>\n",
              "    </tr>\n",
              "    <tr>\n",
              "      <th>4</th>\n",
              "      <td>0.2145</td>\n",
              "      <td>(RefBks)</td>\n",
              "    </tr>\n",
              "    <tr>\n",
              "      <th>5</th>\n",
              "      <td>0.2410</td>\n",
              "      <td>(ArtBks)</td>\n",
              "    </tr>\n",
              "    <tr>\n",
              "      <th>6</th>\n",
              "      <td>0.2760</td>\n",
              "      <td>(GeogBks)</td>\n",
              "    </tr>\n",
              "    <tr>\n",
              "      <th>7</th>\n",
              "      <td>0.1135</td>\n",
              "      <td>(ItalCook)</td>\n",
              "    </tr>\n",
              "    <tr>\n",
              "      <th>8</th>\n",
              "      <td>0.1085</td>\n",
              "      <td>(Florence)</td>\n",
              "    </tr>\n",
              "    <tr>\n",
              "      <th>9</th>\n",
              "      <td>0.1650</td>\n",
              "      <td>(ChildBks, YouthBks)</td>\n",
              "    </tr>\n",
              "    <tr>\n",
              "      <th>10</th>\n",
              "      <td>0.2560</td>\n",
              "      <td>(CookBks, ChildBks)</td>\n",
              "    </tr>\n",
              "    <tr>\n",
              "      <th>11</th>\n",
              "      <td>0.1840</td>\n",
              "      <td>(ChildBks, DoItYBks)</td>\n",
              "    </tr>\n",
              "    <tr>\n",
              "      <th>12</th>\n",
              "      <td>0.1515</td>\n",
              "      <td>(ChildBks, RefBks)</td>\n",
              "    </tr>\n",
              "    <tr>\n",
              "      <th>13</th>\n",
              "      <td>0.1625</td>\n",
              "      <td>(ArtBks, ChildBks)</td>\n",
              "    </tr>\n",
              "    <tr>\n",
              "      <th>14</th>\n",
              "      <td>0.1950</td>\n",
              "      <td>(GeogBks, ChildBks)</td>\n",
              "    </tr>\n",
              "    <tr>\n",
              "      <th>15</th>\n",
              "      <td>0.0850</td>\n",
              "      <td>(ItalCook, ChildBks)</td>\n",
              "    </tr>\n",
              "    <tr>\n",
              "      <th>16</th>\n",
              "      <td>0.1620</td>\n",
              "      <td>(CookBks, YouthBks)</td>\n",
              "    </tr>\n",
              "    <tr>\n",
              "      <th>17</th>\n",
              "      <td>0.1155</td>\n",
              "      <td>(DoItYBks, YouthBks)</td>\n",
              "    </tr>\n",
              "    <tr>\n",
              "      <th>18</th>\n",
              "      <td>0.0965</td>\n",
              "      <td>(RefBks, YouthBks)</td>\n",
              "    </tr>\n",
              "    <tr>\n",
              "      <th>19</th>\n",
              "      <td>0.1010</td>\n",
              "      <td>(ArtBks, YouthBks)</td>\n",
              "    </tr>\n",
              "    <tr>\n",
              "      <th>20</th>\n",
              "      <td>0.1205</td>\n",
              "      <td>(GeogBks, YouthBks)</td>\n",
              "    </tr>\n",
              "    <tr>\n",
              "      <th>21</th>\n",
              "      <td>0.1875</td>\n",
              "      <td>(CookBks, DoItYBks)</td>\n",
              "    </tr>\n",
              "    <tr>\n",
              "      <th>22</th>\n",
              "      <td>0.1525</td>\n",
              "      <td>(CookBks, RefBks)</td>\n",
              "    </tr>\n",
              "    <tr>\n",
              "      <th>23</th>\n",
              "      <td>0.1670</td>\n",
              "      <td>(ArtBks, CookBks)</td>\n",
              "    </tr>\n",
              "    <tr>\n",
              "      <th>24</th>\n",
              "      <td>0.1925</td>\n",
              "      <td>(GeogBks, CookBks)</td>\n",
              "    </tr>\n",
              "    <tr>\n",
              "      <th>25</th>\n",
              "      <td>0.1135</td>\n",
              "      <td>(CookBks, ItalCook)</td>\n",
              "    </tr>\n",
              "    <tr>\n",
              "      <th>26</th>\n",
              "      <td>0.1055</td>\n",
              "      <td>(RefBks, DoItYBks)</td>\n",
              "    </tr>\n",
              "    <tr>\n",
              "      <th>27</th>\n",
              "      <td>0.1235</td>\n",
              "      <td>(ArtBks, DoItYBks)</td>\n",
              "    </tr>\n",
              "    <tr>\n",
              "      <th>28</th>\n",
              "      <td>0.1325</td>\n",
              "      <td>(GeogBks, DoItYBks)</td>\n",
              "    </tr>\n",
              "    <tr>\n",
              "      <th>29</th>\n",
              "      <td>0.0895</td>\n",
              "      <td>(ArtBks, RefBks)</td>\n",
              "    </tr>\n",
              "    <tr>\n",
              "      <th>30</th>\n",
              "      <td>0.1105</td>\n",
              "      <td>(GeogBks, RefBks)</td>\n",
              "    </tr>\n",
              "    <tr>\n",
              "      <th>31</th>\n",
              "      <td>0.1275</td>\n",
              "      <td>(ArtBks, GeogBks)</td>\n",
              "    </tr>\n",
              "    <tr>\n",
              "      <th>32</th>\n",
              "      <td>0.1290</td>\n",
              "      <td>(CookBks, ChildBks, YouthBks)</td>\n",
              "    </tr>\n",
              "    <tr>\n",
              "      <th>33</th>\n",
              "      <td>0.0950</td>\n",
              "      <td>(ChildBks, DoItYBks, YouthBks)</td>\n",
              "    </tr>\n",
              "    <tr>\n",
              "      <th>34</th>\n",
              "      <td>0.0830</td>\n",
              "      <td>(ChildBks, RefBks, YouthBks)</td>\n",
              "    </tr>\n",
              "    <tr>\n",
              "      <th>35</th>\n",
              "      <td>0.0805</td>\n",
              "      <td>(ArtBks, ChildBks, YouthBks)</td>\n",
              "    </tr>\n",
              "    <tr>\n",
              "      <th>36</th>\n",
              "      <td>0.0990</td>\n",
              "      <td>(GeogBks, ChildBks, YouthBks)</td>\n",
              "    </tr>\n",
              "    <tr>\n",
              "      <th>37</th>\n",
              "      <td>0.1460</td>\n",
              "      <td>(CookBks, ChildBks, DoItYBks)</td>\n",
              "    </tr>\n",
              "    <tr>\n",
              "      <th>38</th>\n",
              "      <td>0.1225</td>\n",
              "      <td>(CookBks, ChildBks, RefBks)</td>\n",
              "    </tr>\n",
              "    <tr>\n",
              "      <th>39</th>\n",
              "      <td>0.1265</td>\n",
              "      <td>(ArtBks, CookBks, ChildBks)</td>\n",
              "    </tr>\n",
              "    <tr>\n",
              "      <th>40</th>\n",
              "      <td>0.1495</td>\n",
              "      <td>(GeogBks, CookBks, ChildBks)</td>\n",
              "    </tr>\n",
              "    <tr>\n",
              "      <th>41</th>\n",
              "      <td>0.0850</td>\n",
              "      <td>(CookBks, ChildBks, ItalCook)</td>\n",
              "    </tr>\n",
              "    <tr>\n",
              "      <th>42</th>\n",
              "      <td>0.0900</td>\n",
              "      <td>(RefBks, ChildBks, DoItYBks)</td>\n",
              "    </tr>\n",
              "    <tr>\n",
              "      <th>43</th>\n",
              "      <td>0.0950</td>\n",
              "      <td>(ArtBks, ChildBks, DoItYBks)</td>\n",
              "    </tr>\n",
              "    <tr>\n",
              "      <th>44</th>\n",
              "      <td>0.1045</td>\n",
              "      <td>(GeogBks, ChildBks, DoItYBks)</td>\n",
              "    </tr>\n",
              "    <tr>\n",
              "      <th>45</th>\n",
              "      <td>0.0940</td>\n",
              "      <td>(GeogBks, ChildBks, RefBks)</td>\n",
              "    </tr>\n",
              "    <tr>\n",
              "      <th>46</th>\n",
              "      <td>0.1020</td>\n",
              "      <td>(ArtBks, ChildBks, GeogBks)</td>\n",
              "    </tr>\n",
              "    <tr>\n",
              "      <th>47</th>\n",
              "      <td>0.0950</td>\n",
              "      <td>(CookBks, DoItYBks, YouthBks)</td>\n",
              "    </tr>\n",
              "    <tr>\n",
              "      <th>48</th>\n",
              "      <td>0.0810</td>\n",
              "      <td>(ArtBks, CookBks, YouthBks)</td>\n",
              "    </tr>\n",
              "    <tr>\n",
              "      <th>49</th>\n",
              "      <td>0.0970</td>\n",
              "      <td>(GeogBks, CookBks, YouthBks)</td>\n",
              "    </tr>\n",
              "    <tr>\n",
              "      <th>50</th>\n",
              "      <td>0.0845</td>\n",
              "      <td>(RefBks, CookBks, DoItYBks)</td>\n",
              "    </tr>\n",
              "    <tr>\n",
              "      <th>51</th>\n",
              "      <td>0.1015</td>\n",
              "      <td>(ArtBks, CookBks, DoItYBks)</td>\n",
              "    </tr>\n",
              "    <tr>\n",
              "      <th>52</th>\n",
              "      <td>0.1085</td>\n",
              "      <td>(GeogBks, CookBks, DoItYBks)</td>\n",
              "    </tr>\n",
              "    <tr>\n",
              "      <th>53</th>\n",
              "      <td>0.0890</td>\n",
              "      <td>(GeogBks, CookBks, RefBks)</td>\n",
              "    </tr>\n",
              "    <tr>\n",
              "      <th>54</th>\n",
              "      <td>0.1035</td>\n",
              "      <td>(ArtBks, CookBks, GeogBks)</td>\n",
              "    </tr>\n",
              "    <tr>\n",
              "      <th>55</th>\n",
              "      <td>0.0820</td>\n",
              "      <td>(CookBks, ChildBks, DoItYBks, YouthBks)</td>\n",
              "    </tr>\n",
              "    <tr>\n",
              "      <th>56</th>\n",
              "      <td>0.0830</td>\n",
              "      <td>(GeogBks, CookBks, ChildBks, YouthBks)</td>\n",
              "    </tr>\n",
              "    <tr>\n",
              "      <th>57</th>\n",
              "      <td>0.0820</td>\n",
              "      <td>(ArtBks, CookBks, ChildBks, DoItYBks)</td>\n",
              "    </tr>\n",
              "    <tr>\n",
              "      <th>58</th>\n",
              "      <td>0.0890</td>\n",
              "      <td>(GeogBks, CookBks, ChildBks, DoItYBks)</td>\n",
              "    </tr>\n",
              "    <tr>\n",
              "      <th>59</th>\n",
              "      <td>0.0835</td>\n",
              "      <td>(ArtBks, CookBks, ChildBks, GeogBks)</td>\n",
              "    </tr>\n",
              "  </tbody>\n",
              "</table>\n",
              "</div>"
            ],
            "text/plain": [
              "    support                                 itemsets\n",
              "0    0.4230                               (ChildBks)\n",
              "1    0.2475                               (YouthBks)\n",
              "2    0.4310                                (CookBks)\n",
              "3    0.2820                               (DoItYBks)\n",
              "4    0.2145                                 (RefBks)\n",
              "5    0.2410                                 (ArtBks)\n",
              "6    0.2760                                (GeogBks)\n",
              "7    0.1135                               (ItalCook)\n",
              "8    0.1085                               (Florence)\n",
              "9    0.1650                     (ChildBks, YouthBks)\n",
              "10   0.2560                      (CookBks, ChildBks)\n",
              "11   0.1840                     (ChildBks, DoItYBks)\n",
              "12   0.1515                       (ChildBks, RefBks)\n",
              "13   0.1625                       (ArtBks, ChildBks)\n",
              "14   0.1950                      (GeogBks, ChildBks)\n",
              "15   0.0850                     (ItalCook, ChildBks)\n",
              "16   0.1620                      (CookBks, YouthBks)\n",
              "17   0.1155                     (DoItYBks, YouthBks)\n",
              "18   0.0965                       (RefBks, YouthBks)\n",
              "19   0.1010                       (ArtBks, YouthBks)\n",
              "20   0.1205                      (GeogBks, YouthBks)\n",
              "21   0.1875                      (CookBks, DoItYBks)\n",
              "22   0.1525                        (CookBks, RefBks)\n",
              "23   0.1670                        (ArtBks, CookBks)\n",
              "24   0.1925                       (GeogBks, CookBks)\n",
              "25   0.1135                      (CookBks, ItalCook)\n",
              "26   0.1055                       (RefBks, DoItYBks)\n",
              "27   0.1235                       (ArtBks, DoItYBks)\n",
              "28   0.1325                      (GeogBks, DoItYBks)\n",
              "29   0.0895                         (ArtBks, RefBks)\n",
              "30   0.1105                        (GeogBks, RefBks)\n",
              "31   0.1275                        (ArtBks, GeogBks)\n",
              "32   0.1290            (CookBks, ChildBks, YouthBks)\n",
              "33   0.0950           (ChildBks, DoItYBks, YouthBks)\n",
              "34   0.0830             (ChildBks, RefBks, YouthBks)\n",
              "35   0.0805             (ArtBks, ChildBks, YouthBks)\n",
              "36   0.0990            (GeogBks, ChildBks, YouthBks)\n",
              "37   0.1460            (CookBks, ChildBks, DoItYBks)\n",
              "38   0.1225              (CookBks, ChildBks, RefBks)\n",
              "39   0.1265              (ArtBks, CookBks, ChildBks)\n",
              "40   0.1495             (GeogBks, CookBks, ChildBks)\n",
              "41   0.0850            (CookBks, ChildBks, ItalCook)\n",
              "42   0.0900             (RefBks, ChildBks, DoItYBks)\n",
              "43   0.0950             (ArtBks, ChildBks, DoItYBks)\n",
              "44   0.1045            (GeogBks, ChildBks, DoItYBks)\n",
              "45   0.0940              (GeogBks, ChildBks, RefBks)\n",
              "46   0.1020              (ArtBks, ChildBks, GeogBks)\n",
              "47   0.0950            (CookBks, DoItYBks, YouthBks)\n",
              "48   0.0810              (ArtBks, CookBks, YouthBks)\n",
              "49   0.0970             (GeogBks, CookBks, YouthBks)\n",
              "50   0.0845              (RefBks, CookBks, DoItYBks)\n",
              "51   0.1015              (ArtBks, CookBks, DoItYBks)\n",
              "52   0.1085             (GeogBks, CookBks, DoItYBks)\n",
              "53   0.0890               (GeogBks, CookBks, RefBks)\n",
              "54   0.1035               (ArtBks, CookBks, GeogBks)\n",
              "55   0.0820  (CookBks, ChildBks, DoItYBks, YouthBks)\n",
              "56   0.0830   (GeogBks, CookBks, ChildBks, YouthBks)\n",
              "57   0.0820    (ArtBks, CookBks, ChildBks, DoItYBks)\n",
              "58   0.0890   (GeogBks, CookBks, ChildBks, DoItYBks)\n",
              "59   0.0835     (ArtBks, CookBks, ChildBks, GeogBks)"
            ]
          },
          "metadata": {
            "tags": []
          },
          "execution_count": 202
        }
      ]
    },
    {
      "cell_type": "code",
      "metadata": {
        "ExecuteTime": {
          "end_time": "2021-07-26T11:28:00.312254Z",
          "start_time": "2021-07-26T11:28:00.300289Z"
        },
        "id": "14KkIfQOFnYZ"
      },
      "source": [
        "## with 0.6% threshold or confidence\n",
        "rules3 = association_rules(frequent_itemsets3,metric = 'lift',min_threshold=0.8)"
      ],
      "execution_count": null,
      "outputs": []
    },
    {
      "cell_type": "code",
      "metadata": {
        "ExecuteTime": {
          "end_time": "2021-07-26T11:28:04.045834Z",
          "start_time": "2021-07-26T11:28:04.008935Z"
        },
        "id": "XVFZQHwVFnYZ",
        "outputId": "c5b59305-2bf8-4b47-e49d-554c5a11f2db"
      },
      "source": [
        "rules3"
      ],
      "execution_count": null,
      "outputs": [
        {
          "output_type": "execute_result",
          "data": {
            "text/html": [
              "<div>\n",
              "<style scoped>\n",
              "    .dataframe tbody tr th:only-of-type {\n",
              "        vertical-align: middle;\n",
              "    }\n",
              "\n",
              "    .dataframe tbody tr th {\n",
              "        vertical-align: top;\n",
              "    }\n",
              "\n",
              "    .dataframe thead th {\n",
              "        text-align: right;\n",
              "    }\n",
              "</style>\n",
              "<table border=\"1\" class=\"dataframe\">\n",
              "  <thead>\n",
              "    <tr style=\"text-align: right;\">\n",
              "      <th></th>\n",
              "      <th>antecedents</th>\n",
              "      <th>consequents</th>\n",
              "      <th>antecedent support</th>\n",
              "      <th>consequent support</th>\n",
              "      <th>support</th>\n",
              "      <th>confidence</th>\n",
              "      <th>lift</th>\n",
              "      <th>leverage</th>\n",
              "      <th>conviction</th>\n",
              "    </tr>\n",
              "  </thead>\n",
              "  <tbody>\n",
              "    <tr>\n",
              "      <th>0</th>\n",
              "      <td>(ChildBks)</td>\n",
              "      <td>(YouthBks)</td>\n",
              "      <td>0.4230</td>\n",
              "      <td>0.2475</td>\n",
              "      <td>0.1650</td>\n",
              "      <td>0.390071</td>\n",
              "      <td>1.576044</td>\n",
              "      <td>0.060308</td>\n",
              "      <td>1.233750</td>\n",
              "    </tr>\n",
              "    <tr>\n",
              "      <th>1</th>\n",
              "      <td>(YouthBks)</td>\n",
              "      <td>(ChildBks)</td>\n",
              "      <td>0.2475</td>\n",
              "      <td>0.4230</td>\n",
              "      <td>0.1650</td>\n",
              "      <td>0.666667</td>\n",
              "      <td>1.576044</td>\n",
              "      <td>0.060308</td>\n",
              "      <td>1.731000</td>\n",
              "    </tr>\n",
              "    <tr>\n",
              "      <th>2</th>\n",
              "      <td>(CookBks)</td>\n",
              "      <td>(ChildBks)</td>\n",
              "      <td>0.4310</td>\n",
              "      <td>0.4230</td>\n",
              "      <td>0.2560</td>\n",
              "      <td>0.593968</td>\n",
              "      <td>1.404179</td>\n",
              "      <td>0.073687</td>\n",
              "      <td>1.421069</td>\n",
              "    </tr>\n",
              "    <tr>\n",
              "      <th>3</th>\n",
              "      <td>(ChildBks)</td>\n",
              "      <td>(CookBks)</td>\n",
              "      <td>0.4230</td>\n",
              "      <td>0.4310</td>\n",
              "      <td>0.2560</td>\n",
              "      <td>0.605201</td>\n",
              "      <td>1.404179</td>\n",
              "      <td>0.073687</td>\n",
              "      <td>1.441240</td>\n",
              "    </tr>\n",
              "    <tr>\n",
              "      <th>4</th>\n",
              "      <td>(ChildBks)</td>\n",
              "      <td>(DoItYBks)</td>\n",
              "      <td>0.4230</td>\n",
              "      <td>0.2820</td>\n",
              "      <td>0.1840</td>\n",
              "      <td>0.434988</td>\n",
              "      <td>1.542511</td>\n",
              "      <td>0.064714</td>\n",
              "      <td>1.270770</td>\n",
              "    </tr>\n",
              "    <tr>\n",
              "      <th>...</th>\n",
              "      <td>...</td>\n",
              "      <td>...</td>\n",
              "      <td>...</td>\n",
              "      <td>...</td>\n",
              "      <td>...</td>\n",
              "      <td>...</td>\n",
              "      <td>...</td>\n",
              "      <td>...</td>\n",
              "      <td>...</td>\n",
              "    </tr>\n",
              "    <tr>\n",
              "      <th>249</th>\n",
              "      <td>(GeogBks, ChildBks)</td>\n",
              "      <td>(ArtBks, CookBks)</td>\n",
              "      <td>0.1950</td>\n",
              "      <td>0.1670</td>\n",
              "      <td>0.0835</td>\n",
              "      <td>0.428205</td>\n",
              "      <td>2.564103</td>\n",
              "      <td>0.050935</td>\n",
              "      <td>1.456816</td>\n",
              "    </tr>\n",
              "    <tr>\n",
              "      <th>250</th>\n",
              "      <td>(ArtBks)</td>\n",
              "      <td>(GeogBks, CookBks, ChildBks)</td>\n",
              "      <td>0.2410</td>\n",
              "      <td>0.1495</td>\n",
              "      <td>0.0835</td>\n",
              "      <td>0.346473</td>\n",
              "      <td>2.317545</td>\n",
              "      <td>0.047471</td>\n",
              "      <td>1.301400</td>\n",
              "    </tr>\n",
              "    <tr>\n",
              "      <th>251</th>\n",
              "      <td>(CookBks)</td>\n",
              "      <td>(ArtBks, ChildBks, GeogBks)</td>\n",
              "      <td>0.4310</td>\n",
              "      <td>0.1020</td>\n",
              "      <td>0.0835</td>\n",
              "      <td>0.193735</td>\n",
              "      <td>1.899368</td>\n",
              "      <td>0.039538</td>\n",
              "      <td>1.113778</td>\n",
              "    </tr>\n",
              "    <tr>\n",
              "      <th>252</th>\n",
              "      <td>(ChildBks)</td>\n",
              "      <td>(ArtBks, CookBks, GeogBks)</td>\n",
              "      <td>0.4230</td>\n",
              "      <td>0.1035</td>\n",
              "      <td>0.0835</td>\n",
              "      <td>0.197400</td>\n",
              "      <td>1.907242</td>\n",
              "      <td>0.039720</td>\n",
              "      <td>1.116994</td>\n",
              "    </tr>\n",
              "    <tr>\n",
              "      <th>253</th>\n",
              "      <td>(GeogBks)</td>\n",
              "      <td>(ArtBks, CookBks, ChildBks)</td>\n",
              "      <td>0.2760</td>\n",
              "      <td>0.1265</td>\n",
              "      <td>0.0835</td>\n",
              "      <td>0.302536</td>\n",
              "      <td>2.391591</td>\n",
              "      <td>0.048586</td>\n",
              "      <td>1.252395</td>\n",
              "    </tr>\n",
              "  </tbody>\n",
              "</table>\n",
              "<p>254 rows × 9 columns</p>\n",
              "</div>"
            ],
            "text/plain": [
              "             antecedents                   consequents  antecedent support  \\\n",
              "0             (ChildBks)                    (YouthBks)              0.4230   \n",
              "1             (YouthBks)                    (ChildBks)              0.2475   \n",
              "2              (CookBks)                    (ChildBks)              0.4310   \n",
              "3             (ChildBks)                     (CookBks)              0.4230   \n",
              "4             (ChildBks)                    (DoItYBks)              0.4230   \n",
              "..                   ...                           ...                 ...   \n",
              "249  (GeogBks, ChildBks)             (ArtBks, CookBks)              0.1950   \n",
              "250             (ArtBks)  (GeogBks, CookBks, ChildBks)              0.2410   \n",
              "251            (CookBks)   (ArtBks, ChildBks, GeogBks)              0.4310   \n",
              "252           (ChildBks)    (ArtBks, CookBks, GeogBks)              0.4230   \n",
              "253            (GeogBks)   (ArtBks, CookBks, ChildBks)              0.2760   \n",
              "\n",
              "     consequent support  support  confidence      lift  leverage  conviction  \n",
              "0                0.2475   0.1650    0.390071  1.576044  0.060308    1.233750  \n",
              "1                0.4230   0.1650    0.666667  1.576044  0.060308    1.731000  \n",
              "2                0.4230   0.2560    0.593968  1.404179  0.073687    1.421069  \n",
              "3                0.4310   0.2560    0.605201  1.404179  0.073687    1.441240  \n",
              "4                0.2820   0.1840    0.434988  1.542511  0.064714    1.270770  \n",
              "..                  ...      ...         ...       ...       ...         ...  \n",
              "249              0.1670   0.0835    0.428205  2.564103  0.050935    1.456816  \n",
              "250              0.1495   0.0835    0.346473  2.317545  0.047471    1.301400  \n",
              "251              0.1020   0.0835    0.193735  1.899368  0.039538    1.113778  \n",
              "252              0.1035   0.0835    0.197400  1.907242  0.039720    1.116994  \n",
              "253              0.1265   0.0835    0.302536  2.391591  0.048586    1.252395  \n",
              "\n",
              "[254 rows x 9 columns]"
            ]
          },
          "metadata": {
            "tags": []
          },
          "execution_count": 204
        }
      ]
    },
    {
      "cell_type": "code",
      "metadata": {
        "ExecuteTime": {
          "end_time": "2021-07-26T11:28:10.441377Z",
          "start_time": "2021-07-26T11:28:10.400897Z"
        },
        "id": "aNbw1bFdFnYZ",
        "outputId": "c4ddcc35-fa4b-4ebd-affa-0a2a3556f571"
      },
      "source": [
        "rules3[rules3.lift>1]"
      ],
      "execution_count": null,
      "outputs": [
        {
          "output_type": "execute_result",
          "data": {
            "text/html": [
              "<div>\n",
              "<style scoped>\n",
              "    .dataframe tbody tr th:only-of-type {\n",
              "        vertical-align: middle;\n",
              "    }\n",
              "\n",
              "    .dataframe tbody tr th {\n",
              "        vertical-align: top;\n",
              "    }\n",
              "\n",
              "    .dataframe thead th {\n",
              "        text-align: right;\n",
              "    }\n",
              "</style>\n",
              "<table border=\"1\" class=\"dataframe\">\n",
              "  <thead>\n",
              "    <tr style=\"text-align: right;\">\n",
              "      <th></th>\n",
              "      <th>antecedents</th>\n",
              "      <th>consequents</th>\n",
              "      <th>antecedent support</th>\n",
              "      <th>consequent support</th>\n",
              "      <th>support</th>\n",
              "      <th>confidence</th>\n",
              "      <th>lift</th>\n",
              "      <th>leverage</th>\n",
              "      <th>conviction</th>\n",
              "    </tr>\n",
              "  </thead>\n",
              "  <tbody>\n",
              "    <tr>\n",
              "      <th>0</th>\n",
              "      <td>(ChildBks)</td>\n",
              "      <td>(YouthBks)</td>\n",
              "      <td>0.4230</td>\n",
              "      <td>0.2475</td>\n",
              "      <td>0.1650</td>\n",
              "      <td>0.390071</td>\n",
              "      <td>1.576044</td>\n",
              "      <td>0.060308</td>\n",
              "      <td>1.233750</td>\n",
              "    </tr>\n",
              "    <tr>\n",
              "      <th>1</th>\n",
              "      <td>(YouthBks)</td>\n",
              "      <td>(ChildBks)</td>\n",
              "      <td>0.2475</td>\n",
              "      <td>0.4230</td>\n",
              "      <td>0.1650</td>\n",
              "      <td>0.666667</td>\n",
              "      <td>1.576044</td>\n",
              "      <td>0.060308</td>\n",
              "      <td>1.731000</td>\n",
              "    </tr>\n",
              "    <tr>\n",
              "      <th>2</th>\n",
              "      <td>(CookBks)</td>\n",
              "      <td>(ChildBks)</td>\n",
              "      <td>0.4310</td>\n",
              "      <td>0.4230</td>\n",
              "      <td>0.2560</td>\n",
              "      <td>0.593968</td>\n",
              "      <td>1.404179</td>\n",
              "      <td>0.073687</td>\n",
              "      <td>1.421069</td>\n",
              "    </tr>\n",
              "    <tr>\n",
              "      <th>3</th>\n",
              "      <td>(ChildBks)</td>\n",
              "      <td>(CookBks)</td>\n",
              "      <td>0.4230</td>\n",
              "      <td>0.4310</td>\n",
              "      <td>0.2560</td>\n",
              "      <td>0.605201</td>\n",
              "      <td>1.404179</td>\n",
              "      <td>0.073687</td>\n",
              "      <td>1.441240</td>\n",
              "    </tr>\n",
              "    <tr>\n",
              "      <th>4</th>\n",
              "      <td>(ChildBks)</td>\n",
              "      <td>(DoItYBks)</td>\n",
              "      <td>0.4230</td>\n",
              "      <td>0.2820</td>\n",
              "      <td>0.1840</td>\n",
              "      <td>0.434988</td>\n",
              "      <td>1.542511</td>\n",
              "      <td>0.064714</td>\n",
              "      <td>1.270770</td>\n",
              "    </tr>\n",
              "    <tr>\n",
              "      <th>...</th>\n",
              "      <td>...</td>\n",
              "      <td>...</td>\n",
              "      <td>...</td>\n",
              "      <td>...</td>\n",
              "      <td>...</td>\n",
              "      <td>...</td>\n",
              "      <td>...</td>\n",
              "      <td>...</td>\n",
              "      <td>...</td>\n",
              "    </tr>\n",
              "    <tr>\n",
              "      <th>249</th>\n",
              "      <td>(GeogBks, ChildBks)</td>\n",
              "      <td>(ArtBks, CookBks)</td>\n",
              "      <td>0.1950</td>\n",
              "      <td>0.1670</td>\n",
              "      <td>0.0835</td>\n",
              "      <td>0.428205</td>\n",
              "      <td>2.564103</td>\n",
              "      <td>0.050935</td>\n",
              "      <td>1.456816</td>\n",
              "    </tr>\n",
              "    <tr>\n",
              "      <th>250</th>\n",
              "      <td>(ArtBks)</td>\n",
              "      <td>(GeogBks, CookBks, ChildBks)</td>\n",
              "      <td>0.2410</td>\n",
              "      <td>0.1495</td>\n",
              "      <td>0.0835</td>\n",
              "      <td>0.346473</td>\n",
              "      <td>2.317545</td>\n",
              "      <td>0.047471</td>\n",
              "      <td>1.301400</td>\n",
              "    </tr>\n",
              "    <tr>\n",
              "      <th>251</th>\n",
              "      <td>(CookBks)</td>\n",
              "      <td>(ArtBks, ChildBks, GeogBks)</td>\n",
              "      <td>0.4310</td>\n",
              "      <td>0.1020</td>\n",
              "      <td>0.0835</td>\n",
              "      <td>0.193735</td>\n",
              "      <td>1.899368</td>\n",
              "      <td>0.039538</td>\n",
              "      <td>1.113778</td>\n",
              "    </tr>\n",
              "    <tr>\n",
              "      <th>252</th>\n",
              "      <td>(ChildBks)</td>\n",
              "      <td>(ArtBks, CookBks, GeogBks)</td>\n",
              "      <td>0.4230</td>\n",
              "      <td>0.1035</td>\n",
              "      <td>0.0835</td>\n",
              "      <td>0.197400</td>\n",
              "      <td>1.907242</td>\n",
              "      <td>0.039720</td>\n",
              "      <td>1.116994</td>\n",
              "    </tr>\n",
              "    <tr>\n",
              "      <th>253</th>\n",
              "      <td>(GeogBks)</td>\n",
              "      <td>(ArtBks, CookBks, ChildBks)</td>\n",
              "      <td>0.2760</td>\n",
              "      <td>0.1265</td>\n",
              "      <td>0.0835</td>\n",
              "      <td>0.302536</td>\n",
              "      <td>2.391591</td>\n",
              "      <td>0.048586</td>\n",
              "      <td>1.252395</td>\n",
              "    </tr>\n",
              "  </tbody>\n",
              "</table>\n",
              "<p>254 rows × 9 columns</p>\n",
              "</div>"
            ],
            "text/plain": [
              "             antecedents                   consequents  antecedent support  \\\n",
              "0             (ChildBks)                    (YouthBks)              0.4230   \n",
              "1             (YouthBks)                    (ChildBks)              0.2475   \n",
              "2              (CookBks)                    (ChildBks)              0.4310   \n",
              "3             (ChildBks)                     (CookBks)              0.4230   \n",
              "4             (ChildBks)                    (DoItYBks)              0.4230   \n",
              "..                   ...                           ...                 ...   \n",
              "249  (GeogBks, ChildBks)             (ArtBks, CookBks)              0.1950   \n",
              "250             (ArtBks)  (GeogBks, CookBks, ChildBks)              0.2410   \n",
              "251            (CookBks)   (ArtBks, ChildBks, GeogBks)              0.4310   \n",
              "252           (ChildBks)    (ArtBks, CookBks, GeogBks)              0.4230   \n",
              "253            (GeogBks)   (ArtBks, CookBks, ChildBks)              0.2760   \n",
              "\n",
              "     consequent support  support  confidence      lift  leverage  conviction  \n",
              "0                0.2475   0.1650    0.390071  1.576044  0.060308    1.233750  \n",
              "1                0.4230   0.1650    0.666667  1.576044  0.060308    1.731000  \n",
              "2                0.4230   0.2560    0.593968  1.404179  0.073687    1.421069  \n",
              "3                0.4310   0.2560    0.605201  1.404179  0.073687    1.441240  \n",
              "4                0.2820   0.1840    0.434988  1.542511  0.064714    1.270770  \n",
              "..                  ...      ...         ...       ...       ...         ...  \n",
              "249              0.1670   0.0835    0.428205  2.564103  0.050935    1.456816  \n",
              "250              0.1495   0.0835    0.346473  2.317545  0.047471    1.301400  \n",
              "251              0.1020   0.0835    0.193735  1.899368  0.039538    1.113778  \n",
              "252              0.1035   0.0835    0.197400  1.907242  0.039720    1.116994  \n",
              "253              0.1265   0.0835    0.302536  2.391591  0.048586    1.252395  \n",
              "\n",
              "[254 rows x 9 columns]"
            ]
          },
          "metadata": {
            "tags": []
          },
          "execution_count": 205
        }
      ]
    },
    {
      "cell_type": "code",
      "metadata": {
        "id": "QY1SpfCXFnYa"
      },
      "source": [
        ""
      ],
      "execution_count": null,
      "outputs": []
    },
    {
      "cell_type": "code",
      "metadata": {
        "id": "eMfFO2CiFnYa"
      },
      "source": [
        ""
      ],
      "execution_count": null,
      "outputs": []
    },
    {
      "cell_type": "code",
      "metadata": {
        "id": "Hi5jiSB2FnYa"
      },
      "source": [
        ""
      ],
      "execution_count": null,
      "outputs": []
    },
    {
      "cell_type": "code",
      "metadata": {
        "id": "Uv-zRGnAFnYa"
      },
      "source": [
        ""
      ],
      "execution_count": null,
      "outputs": []
    }
  ]
}